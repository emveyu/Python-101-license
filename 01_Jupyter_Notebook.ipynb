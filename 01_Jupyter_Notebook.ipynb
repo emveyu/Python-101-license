{
 "cells": [
  {
   "cell_type": "markdown",
   "id": "665190b8",
   "metadata": {},
   "source": [
    "# 01. How to Start with Jupyter Notebook\n",
    "***\n",
    "## Useful Keyboard Shortcuts\n",
    "|Shortcuts|Actions||||\n",
    "|:----:|:-||||\n",
    "|h|Toggle help|\n",
    "|m|change selected cell to markdown|\n",
    "|y|change selected cell to code|\n",
    "| ⌘↵ |Run selected cell|\n",
    "|a|Insert a cell above|\n",
    "|b|Insert a cell below|\n",
    "|dd|Delete a cell selected|\n",
    "|⇧⇥|Remove ⇥ (Tab)|\n",
    "|⌘/|Comment codes|\n",
    "| ⌥+cursor |Select by column|\n",
    "|⇧+L|Toggle line numbers|\n"
   ]
  },
  {
   "cell_type": "markdown",
   "id": "cce1a9d7",
   "metadata": {},
   "source": [
    "***\n",
    "# Try with this Code Cell"
   ]
  },
  {
   "cell_type": "code",
   "execution_count": 14,
   "id": "09842eb3",
   "metadata": {
    "scrolled": true
   },
   "outputs": [
    {
     "name": "stdout",
     "output_type": "stream",
     "text": [
      "Select this cell and try \"⌘↵\"\" to run this cell\n"
     ]
    }
   ],
   "source": [
    "print('Select this cell and try \"⌘↵\"\" to run this cell')"
   ]
  },
  {
   "cell_type": "markdown",
   "id": "1fc5546d",
   "metadata": {},
   "source": [
    "***\n",
    "# Edit Markdown Cell (double click here to see details)\n",
    "## Header 1 \n",
    "### Header 2\n",
    "#### Header 3\n",
    "***\n",
    "### Create a Horizontal Line: *** or ___\n",
    "***  \n",
    "### Create a List: +, -, * or 1. (with Tab)\n",
    "* List example: \n",
    "    * Sublist1\n",
    "    + Sublist2\n",
    "    - Sublist3\n",
    "        1. A\n",
    "        2. B\n",
    "        3. C\n",
    "***\n",
    "### Change to Next Line: \\<br>\n",
    "Line1\n",
    "<br> Line2\n",
    "\n",
    "***\n",
    "### Navigate in Notebook \n",
    " * [Create a Table](#1)\n",
    " * [Create a Hyperlink](#2)\n",
    " * [Insert a Figure by HTML](#3) \n",
    " * [Link a Video with a Preview Picture](#4)\n",
    " * [Insert an LaTeX Equation](#5)\n",
    " * [Customize Text Format](#6)\n",
    " * [Highlight Code Syntax](#7)\n",
    " * [Create Quote](#8)\n",
    " #### Acess to where contains \\<a id = n> \\</a> \n",
    "___\n",
    "<a id =1> </a>\n",
    "### Create a Table \n",
    "|Align:|Left|Center|Right|\n",
    "|-|:-|:-:|-:|\n",
    "||1|1|1|\n",
    "||2|2|2|\n",
    "\n",
    "*** \n",
    "<a id =2> </a>\n",
    "### Create a Hyperlink\n",
    "<https://www.google.com/>\n",
    "\n",
    "[Google](https://www.google.com/)\n",
    "\n",
    "***\n",
    "<a id =3> </a>\n",
    "### Insert a Figure by HTML \n",
    "<img src=\"./figures/shortcut\" width=\"200\">\n",
    "\n",
    "***\n",
    "<a id =4> </a>\n",
    "### Link a Video with a Preview Picture\n",
    "[<img src=\"./figures/Something_just_like_this.jpeg\" width=\"200\">](https://www.youtube.com/watch?v=rLnhfqcNFVQ&list=PLbappMO-aAnru1yvzevgqQtMRD2ZfiJW2&index=1)\n",
    "\n",
    "***\n",
    "<a id =5> </a>\n",
    "### Insert an LaTeX Equation\n",
    "\n",
    "$$S(x) = \\frac{1}{1+e^{-x}}$$\n",
    "\n",
    "***\n",
    "<a id =6> </a>\n",
    "### Customize Text Format\n",
    "*Italic*\n",
    "<br> **Bold**\n",
    "<br> ~strikethrough~\n",
    "<br> ***Bold and Italic***\n",
    "<br>\n",
    "<br> **CSS span:**\n",
    "<br> <span style='font-family:Times New Roman'> Times New Roman </span>\n",
    "<br> <span style='color:Blue'> Blue </span>\n",
    "<br>[<span style='background: aliceblue' > CCS Color Table </span>](https://www.w3.org/wiki/CSS/Properties/color/keywords)\n",
    "<br> <span style=\"border:2px green solid;\"> solid green border </span>\n",
    "\n",
    "*** \n",
    "<a id =7> </a>\n",
    "### Highlight Code Syntax ( \\` is next to 1)\n",
    "```python\n",
    "Str = \"Python syntax \"\n",
    "for i in range(1,10):\n",
    "    print(Str)\n",
    "```\n",
    "***\n",
    "<a id =8> </a>\n",
    "### Create Quote:  >\n",
    "> * [如何溝通資料：輕量級標記式語言](https://medium.com/datainpoint/communicating-md-e53a08e6652f)\n",
    "> * [Markdown Syntax](https://daringfireball.net/projects/markdown/syntax)\n",
    "\n",
    "***"
   ]
  },
  {
   "cell_type": "code",
   "execution_count": null,
   "id": "9f9badb3",
   "metadata": {},
   "outputs": [],
   "source": []
  },
  {
   "cell_type": "code",
   "execution_count": null,
   "id": "d225c00f",
   "metadata": {},
   "outputs": [],
   "source": []
  }
 ],
 "metadata": {
  "kernelspec": {
   "display_name": "Python 3 (ipykernel)",
   "language": "python",
   "name": "python3"
  },
  "language_info": {
   "codemirror_mode": {
    "name": "ipython",
    "version": 3
   },
   "file_extension": ".py",
   "mimetype": "text/x-python",
   "name": "python",
   "nbconvert_exporter": "python",
   "pygments_lexer": "ipython3",
   "version": "3.10.4"
  }
 },
 "nbformat": 4,
 "nbformat_minor": 5
}

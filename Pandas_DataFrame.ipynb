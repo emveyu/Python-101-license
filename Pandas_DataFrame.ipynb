{
 "cells": [
  {
   "cell_type": "markdown",
   "id": "746cd227",
   "metadata": {},
   "source": [
    "<a id =99> </a>\n",
    "# [Pandas](https://pandas.pydata.org/pandas-docs/version/1.3/user_guide/10min.html#)\n",
    "* [Construct a DataFrame](#1)\n",
    "* [Get Values from DataFrame](#2)\n",
    "* [Append and Delete Data](#3)\n",
    "* [Modify the Values in DataFrame](#4)\n",
    "* [Sort DataFrame](#5)\n",
    "* [Ravel DataFrame to Series](#6)\n",
    "* [CSV/Excel to DataFrame](#7)\n",
    "\n",
    "<a id =1> </a> \n",
    "*** \n",
    "## 1. Construct a DataFrame"
   ]
  },
  {
   "cell_type": "code",
   "execution_count": 215,
   "id": "79ebcd34",
   "metadata": {},
   "outputs": [
    {
     "data": {
      "text/html": [
       "<div>\n",
       "<style scoped>\n",
       "    .dataframe tbody tr th:only-of-type {\n",
       "        vertical-align: middle;\n",
       "    }\n",
       "\n",
       "    .dataframe tbody tr th {\n",
       "        vertical-align: top;\n",
       "    }\n",
       "\n",
       "    .dataframe thead th {\n",
       "        text-align: right;\n",
       "    }\n",
       "</style>\n",
       "<table border=\"1\" class=\"dataframe\">\n",
       "  <thead>\n",
       "    <tr style=\"text-align: right;\">\n",
       "      <th></th>\n",
       "      <th>Name</th>\n",
       "      <th>Heigh</th>\n",
       "    </tr>\n",
       "  </thead>\n",
       "  <tbody>\n",
       "    <tr>\n",
       "      <th>0</th>\n",
       "      <td>Allen</td>\n",
       "      <td>170</td>\n",
       "    </tr>\n",
       "    <tr>\n",
       "      <th>1</th>\n",
       "      <td>Shaun</td>\n",
       "      <td>171</td>\n",
       "    </tr>\n",
       "    <tr>\n",
       "      <th>2</th>\n",
       "      <td>Chin</td>\n",
       "      <td>175</td>\n",
       "    </tr>\n",
       "  </tbody>\n",
       "</table>\n",
       "</div>"
      ],
      "text/plain": [
       "    Name  Heigh\n",
       "0  Allen    170\n",
       "1  Shaun    171\n",
       "2   Chin    175"
      ]
     },
     "execution_count": 215,
     "metadata": {},
     "output_type": "execute_result"
    }
   ],
   "source": [
    "import pandas as pd\n",
    "df = pd.DataFrame({'Name':['Allen', 'Shaun', 'Chin'], 'Heigh':[170,171,175]})\n",
    "df "
   ]
  },
  {
   "cell_type": "code",
   "execution_count": 216,
   "id": "bb29fbdb",
   "metadata": {},
   "outputs": [
    {
     "data": {
      "text/html": [
       "<div>\n",
       "<style scoped>\n",
       "    .dataframe tbody tr th:only-of-type {\n",
       "        vertical-align: middle;\n",
       "    }\n",
       "\n",
       "    .dataframe tbody tr th {\n",
       "        vertical-align: top;\n",
       "    }\n",
       "\n",
       "    .dataframe thead th {\n",
       "        text-align: right;\n",
       "    }\n",
       "</style>\n",
       "<table border=\"1\" class=\"dataframe\">\n",
       "  <thead>\n",
       "    <tr style=\"text-align: right;\">\n",
       "      <th></th>\n",
       "      <th>Name</th>\n",
       "      <th>Heigh</th>\n",
       "    </tr>\n",
       "  </thead>\n",
       "  <tbody>\n",
       "    <tr>\n",
       "      <th>0</th>\n",
       "      <td>Tom</td>\n",
       "      <td>150</td>\n",
       "    </tr>\n",
       "    <tr>\n",
       "      <th>1</th>\n",
       "      <td>Alex</td>\n",
       "      <td>200</td>\n",
       "    </tr>\n",
       "  </tbody>\n",
       "</table>\n",
       "</div>"
      ],
      "text/plain": [
       "   Name  Heigh\n",
       "0   Tom    150\n",
       "1  Alex    200"
      ]
     },
     "execution_count": 216,
     "metadata": {},
     "output_type": "execute_result"
    }
   ],
   "source": [
    "# contruct using JSON list\n",
    "# pd.DataFrame(Json list)\n",
    "JSONls = [{'Name':'Tom', 'Heigh':150}, {'Name':'Alex', 'Heigh':200}]\n",
    "df2 = pd.DataFrame(JSONls)\n",
    "df2"
   ]
  },
  {
   "cell_type": "markdown",
   "id": "511769b6",
   "metadata": {},
   "source": [
    " <a id =2> </a>\n",
    " ***\n",
    " ## 2. Get Values from DataFrame\n",
    " ### Get a single value "
   ]
  },
  {
   "cell_type": "code",
   "execution_count": 217,
   "id": "84f2bc82",
   "metadata": {
    "scrolled": true
   },
   "outputs": [
    {
     "data": {
      "text/plain": [
       "'Shaun'"
      ]
     },
     "execution_count": 217,
     "metadata": {},
     "output_type": "execute_result"
    }
   ],
   "source": [
    "# df['column name'][row ind]\n",
    "df['Name'][1]"
   ]
  },
  {
   "cell_type": "code",
   "execution_count": 218,
   "id": "01222858",
   "metadata": {},
   "outputs": [
    {
     "data": {
      "text/plain": [
       "'Shaun'"
      ]
     },
     "execution_count": 218,
     "metadata": {},
     "output_type": "execute_result"
    }
   ],
   "source": [
    "# df.at[row ind, column name]\n",
    "df.at[1, 'Name']"
   ]
  },
  {
   "cell_type": "code",
   "execution_count": 219,
   "id": "cb5e859b",
   "metadata": {},
   "outputs": [
    {
     "data": {
      "text/plain": [
       "'Shaun'"
      ]
     },
     "execution_count": 219,
     "metadata": {},
     "output_type": "execute_result"
    }
   ],
   "source": [
    "# df.iloc[[row ind, column ind]]\n",
    "df.iloc[1, 0]"
   ]
  },
  {
   "cell_type": "markdown",
   "id": "e3068fce",
   "metadata": {},
   "source": [
    "***\n",
    "### Get a series from DataFrame "
   ]
  },
  {
   "cell_type": "code",
   "execution_count": 220,
   "id": "da905bc3",
   "metadata": {},
   "outputs": [
    {
     "data": {
      "text/plain": [
       "0    Allen\n",
       "1    Shaun\n",
       "2     Chin\n",
       "Name: Name, dtype: object"
      ]
     },
     "execution_count": 220,
     "metadata": {},
     "output_type": "execute_result"
    }
   ],
   "source": [
    "# get values in columns\n",
    "Series = df['Name']\n",
    "Series"
   ]
  },
  {
   "cell_type": "markdown",
   "id": "43aba693",
   "metadata": {},
   "source": [
    "***\n",
    "### Get a range of data from DataFrame "
   ]
  },
  {
   "cell_type": "code",
   "execution_count": 221,
   "id": "f88afa32",
   "metadata": {},
   "outputs": [
    {
     "data": {
      "text/html": [
       "<div>\n",
       "<style scoped>\n",
       "    .dataframe tbody tr th:only-of-type {\n",
       "        vertical-align: middle;\n",
       "    }\n",
       "\n",
       "    .dataframe tbody tr th {\n",
       "        vertical-align: top;\n",
       "    }\n",
       "\n",
       "    .dataframe thead th {\n",
       "        text-align: right;\n",
       "    }\n",
       "</style>\n",
       "<table border=\"1\" class=\"dataframe\">\n",
       "  <thead>\n",
       "    <tr style=\"text-align: right;\">\n",
       "      <th></th>\n",
       "      <th>Name</th>\n",
       "      <th>Heigh</th>\n",
       "    </tr>\n",
       "  </thead>\n",
       "  <tbody>\n",
       "    <tr>\n",
       "      <th>0</th>\n",
       "      <td>Allen</td>\n",
       "      <td>170</td>\n",
       "    </tr>\n",
       "    <tr>\n",
       "      <th>1</th>\n",
       "      <td>Shaun</td>\n",
       "      <td>171</td>\n",
       "    </tr>\n",
       "    <tr>\n",
       "      <th>2</th>\n",
       "      <td>Chin</td>\n",
       "      <td>175</td>\n",
       "    </tr>\n",
       "  </tbody>\n",
       "</table>\n",
       "</div>"
      ],
      "text/plain": [
       "    Name  Heigh\n",
       "0  Allen    170\n",
       "1  Shaun    171\n",
       "2   Chin    175"
      ]
     },
     "execution_count": 221,
     "metadata": {},
     "output_type": "execute_result"
    }
   ],
   "source": [
    "# df[column list][rows ind]\n",
    "df2 = df[['Name', 'Heigh']][0:3]\n",
    "df2"
   ]
  },
  {
   "cell_type": "code",
   "execution_count": 222,
   "id": "874dc61e",
   "metadata": {},
   "outputs": [
    {
     "data": {
      "text/html": [
       "<div>\n",
       "<style scoped>\n",
       "    .dataframe tbody tr th:only-of-type {\n",
       "        vertical-align: middle;\n",
       "    }\n",
       "\n",
       "    .dataframe tbody tr th {\n",
       "        vertical-align: top;\n",
       "    }\n",
       "\n",
       "    .dataframe thead th {\n",
       "        text-align: right;\n",
       "    }\n",
       "</style>\n",
       "<table border=\"1\" class=\"dataframe\">\n",
       "  <thead>\n",
       "    <tr style=\"text-align: right;\">\n",
       "      <th></th>\n",
       "      <th>Name</th>\n",
       "      <th>Heigh</th>\n",
       "    </tr>\n",
       "  </thead>\n",
       "  <tbody>\n",
       "    <tr>\n",
       "      <th>0</th>\n",
       "      <td>Allen</td>\n",
       "      <td>170</td>\n",
       "    </tr>\n",
       "    <tr>\n",
       "      <th>1</th>\n",
       "      <td>Shaun</td>\n",
       "      <td>171</td>\n",
       "    </tr>\n",
       "    <tr>\n",
       "      <th>2</th>\n",
       "      <td>Chin</td>\n",
       "      <td>175</td>\n",
       "    </tr>\n",
       "  </tbody>\n",
       "</table>\n",
       "</div>"
      ],
      "text/plain": [
       "    Name  Heigh\n",
       "0  Allen    170\n",
       "1  Shaun    171\n",
       "2   Chin    175"
      ]
     },
     "execution_count": 222,
     "metadata": {},
     "output_type": "execute_result"
    }
   ],
   "source": [
    "# df.iloc[row ind range, column ind range]\n",
    "# [a:b] => a is included but b is excluded\n",
    "df.iloc[0:3,0:2]"
   ]
  },
  {
   "cell_type": "markdown",
   "id": "1e022bf8",
   "metadata": {},
   "source": [
    "***\n",
    "### Get data according to condition"
   ]
  },
  {
   "cell_type": "code",
   "execution_count": 223,
   "id": "ef1d6ad8",
   "metadata": {},
   "outputs": [
    {
     "data": {
      "text/html": [
       "<div>\n",
       "<style scoped>\n",
       "    .dataframe tbody tr th:only-of-type {\n",
       "        vertical-align: middle;\n",
       "    }\n",
       "\n",
       "    .dataframe tbody tr th {\n",
       "        vertical-align: top;\n",
       "    }\n",
       "\n",
       "    .dataframe thead th {\n",
       "        text-align: right;\n",
       "    }\n",
       "</style>\n",
       "<table border=\"1\" class=\"dataframe\">\n",
       "  <thead>\n",
       "    <tr style=\"text-align: right;\">\n",
       "      <th></th>\n",
       "      <th>Name</th>\n",
       "      <th>Heigh</th>\n",
       "    </tr>\n",
       "  </thead>\n",
       "  <tbody>\n",
       "    <tr>\n",
       "      <th>1</th>\n",
       "      <td>Shaun</td>\n",
       "      <td>171</td>\n",
       "    </tr>\n",
       "    <tr>\n",
       "      <th>2</th>\n",
       "      <td>Chin</td>\n",
       "      <td>175</td>\n",
       "    </tr>\n",
       "  </tbody>\n",
       "</table>\n",
       "</div>"
      ],
      "text/plain": [
       "    Name  Heigh\n",
       "1  Shaun    171\n",
       "2   Chin    175"
      ]
     },
     "execution_count": 223,
     "metadata": {},
     "output_type": "execute_result"
    }
   ],
   "source": [
    "# df[conditions]\n",
    "df[df['Heigh']>170]"
   ]
  },
  {
   "cell_type": "markdown",
   "id": "b82cf76f",
   "metadata": {},
   "source": [
    "<a id =3> </a>\n",
    "***\n",
    "## 3. Append and Delete Data"
   ]
  },
  {
   "cell_type": "markdown",
   "id": "d68fc711",
   "metadata": {},
   "source": [
    "### Append columns"
   ]
  },
  {
   "cell_type": "code",
   "execution_count": 224,
   "id": "ee89baed",
   "metadata": {
    "scrolled": true
   },
   "outputs": [
    {
     "data": {
      "text/html": [
       "<div>\n",
       "<style scoped>\n",
       "    .dataframe tbody tr th:only-of-type {\n",
       "        vertical-align: middle;\n",
       "    }\n",
       "\n",
       "    .dataframe tbody tr th {\n",
       "        vertical-align: top;\n",
       "    }\n",
       "\n",
       "    .dataframe thead th {\n",
       "        text-align: right;\n",
       "    }\n",
       "</style>\n",
       "<table border=\"1\" class=\"dataframe\">\n",
       "  <thead>\n",
       "    <tr style=\"text-align: right;\">\n",
       "      <th></th>\n",
       "      <th>Name</th>\n",
       "      <th>Heigh</th>\n",
       "      <th>Weight</th>\n",
       "    </tr>\n",
       "  </thead>\n",
       "  <tbody>\n",
       "    <tr>\n",
       "      <th>0</th>\n",
       "      <td>Allen</td>\n",
       "      <td>170</td>\n",
       "      <td>70</td>\n",
       "    </tr>\n",
       "    <tr>\n",
       "      <th>1</th>\n",
       "      <td>Shaun</td>\n",
       "      <td>171</td>\n",
       "      <td>60</td>\n",
       "    </tr>\n",
       "    <tr>\n",
       "      <th>2</th>\n",
       "      <td>Chin</td>\n",
       "      <td>175</td>\n",
       "      <td>80</td>\n",
       "    </tr>\n",
       "  </tbody>\n",
       "</table>\n",
       "</div>"
      ],
      "text/plain": [
       "    Name  Heigh  Weight\n",
       "0  Allen    170      70\n",
       "1  Shaun    171      60\n",
       "2   Chin    175      80"
      ]
     },
     "execution_count": 224,
     "metadata": {},
     "output_type": "execute_result"
    }
   ],
   "source": [
    "# Add one series/column\n",
    "df['Weight']=[70,60,80]\n",
    "df"
   ]
  },
  {
   "cell_type": "markdown",
   "id": "0025fa11",
   "metadata": {},
   "source": [
    "*** \n",
    "### Append rows"
   ]
  },
  {
   "cell_type": "code",
   "execution_count": 225,
   "id": "a75b17c9",
   "metadata": {
    "scrolled": true
   },
   "outputs": [
    {
     "data": {
      "text/html": [
       "<div>\n",
       "<style scoped>\n",
       "    .dataframe tbody tr th:only-of-type {\n",
       "        vertical-align: middle;\n",
       "    }\n",
       "\n",
       "    .dataframe tbody tr th {\n",
       "        vertical-align: top;\n",
       "    }\n",
       "\n",
       "    .dataframe thead th {\n",
       "        text-align: right;\n",
       "    }\n",
       "</style>\n",
       "<table border=\"1\" class=\"dataframe\">\n",
       "  <thead>\n",
       "    <tr style=\"text-align: right;\">\n",
       "      <th></th>\n",
       "      <th>Name</th>\n",
       "      <th>Heigh</th>\n",
       "      <th>Weight</th>\n",
       "    </tr>\n",
       "  </thead>\n",
       "  <tbody>\n",
       "    <tr>\n",
       "      <th>0</th>\n",
       "      <td>Allen</td>\n",
       "      <td>170</td>\n",
       "      <td>70</td>\n",
       "    </tr>\n",
       "    <tr>\n",
       "      <th>1</th>\n",
       "      <td>Shaun</td>\n",
       "      <td>171</td>\n",
       "      <td>60</td>\n",
       "    </tr>\n",
       "    <tr>\n",
       "      <th>2</th>\n",
       "      <td>Chin</td>\n",
       "      <td>175</td>\n",
       "      <td>80</td>\n",
       "    </tr>\n",
       "    <tr>\n",
       "      <th>3</th>\n",
       "      <td>Charlie</td>\n",
       "      <td>180</td>\n",
       "      <td>90</td>\n",
       "    </tr>\n",
       "  </tbody>\n",
       "</table>\n",
       "</div>"
      ],
      "text/plain": [
       "      Name  Heigh  Weight\n",
       "0    Allen    170      70\n",
       "1    Shaun    171      60\n",
       "2     Chin    175      80\n",
       "3  Charlie    180      90"
      ]
     },
     "execution_count": 225,
     "metadata": {},
     "output_type": "execute_result"
    }
   ],
   "source": [
    "# Append a row: pd.concat([df, add_df])\n",
    "add_df = pd.DataFrame([{'Name':'Charlie','Heigh':180,'Weight':90}])\n",
    "df = pd.concat([df,add_df])\n",
    "# Reset the index \n",
    "df = df.reset_index(drop=True) \n",
    "df"
   ]
  },
  {
   "cell_type": "markdown",
   "id": "0b8638a3",
   "metadata": {},
   "source": [
    "***\n",
    "### Delete columns"
   ]
  },
  {
   "cell_type": "code",
   "execution_count": 226,
   "id": "26ebd43b",
   "metadata": {},
   "outputs": [
    {
     "data": {
      "text/html": [
       "<div>\n",
       "<style scoped>\n",
       "    .dataframe tbody tr th:only-of-type {\n",
       "        vertical-align: middle;\n",
       "    }\n",
       "\n",
       "    .dataframe tbody tr th {\n",
       "        vertical-align: top;\n",
       "    }\n",
       "\n",
       "    .dataframe thead th {\n",
       "        text-align: right;\n",
       "    }\n",
       "</style>\n",
       "<table border=\"1\" class=\"dataframe\">\n",
       "  <thead>\n",
       "    <tr style=\"text-align: right;\">\n",
       "      <th></th>\n",
       "      <th>Name</th>\n",
       "      <th>Heigh</th>\n",
       "    </tr>\n",
       "  </thead>\n",
       "  <tbody>\n",
       "    <tr>\n",
       "      <th>0</th>\n",
       "      <td>Allen</td>\n",
       "      <td>170</td>\n",
       "    </tr>\n",
       "    <tr>\n",
       "      <th>1</th>\n",
       "      <td>Shaun</td>\n",
       "      <td>171</td>\n",
       "    </tr>\n",
       "    <tr>\n",
       "      <th>2</th>\n",
       "      <td>Chin</td>\n",
       "      <td>175</td>\n",
       "    </tr>\n",
       "    <tr>\n",
       "      <th>3</th>\n",
       "      <td>Charlie</td>\n",
       "      <td>180</td>\n",
       "    </tr>\n",
       "  </tbody>\n",
       "</table>\n",
       "</div>"
      ],
      "text/plain": [
       "      Name  Heigh\n",
       "0    Allen    170\n",
       "1    Shaun    171\n",
       "2     Chin    175\n",
       "3  Charlie    180"
      ]
     },
     "execution_count": 226,
     "metadata": {},
     "output_type": "execute_result"
    }
   ],
   "source": [
    "# Delete series/columns\n",
    "del df['Weight']\n",
    "df\n",
    "# Another way: use drop() and give input axis=1(column)\n",
    "# df = df.drop('Weight', axis = 1)"
   ]
  },
  {
   "cell_type": "markdown",
   "id": "ad6d5433",
   "metadata": {},
   "source": [
    "***\n",
    "### Delete rows"
   ]
  },
  {
   "cell_type": "code",
   "execution_count": 227,
   "id": "dade9f01",
   "metadata": {},
   "outputs": [
    {
     "data": {
      "text/html": [
       "<div>\n",
       "<style scoped>\n",
       "    .dataframe tbody tr th:only-of-type {\n",
       "        vertical-align: middle;\n",
       "    }\n",
       "\n",
       "    .dataframe tbody tr th {\n",
       "        vertical-align: top;\n",
       "    }\n",
       "\n",
       "    .dataframe thead th {\n",
       "        text-align: right;\n",
       "    }\n",
       "</style>\n",
       "<table border=\"1\" class=\"dataframe\">\n",
       "  <thead>\n",
       "    <tr style=\"text-align: right;\">\n",
       "      <th></th>\n",
       "      <th>Name</th>\n",
       "      <th>Heigh</th>\n",
       "    </tr>\n",
       "  </thead>\n",
       "  <tbody>\n",
       "    <tr>\n",
       "      <th>0</th>\n",
       "      <td>Allen</td>\n",
       "      <td>170</td>\n",
       "    </tr>\n",
       "    <tr>\n",
       "      <th>1</th>\n",
       "      <td>Shaun</td>\n",
       "      <td>171</td>\n",
       "    </tr>\n",
       "  </tbody>\n",
       "</table>\n",
       "</div>"
      ],
      "text/plain": [
       "    Name  Heigh\n",
       "0  Allen    170\n",
       "1  Shaun    171"
      ]
     },
     "execution_count": 227,
     "metadata": {},
     "output_type": "execute_result"
    }
   ],
   "source": [
    "# Delete rows: drop(index list)\n",
    "df = df.drop([2,3])\n",
    "# Reset the index \n",
    "df = df.reset_index(drop=True)\n",
    "df"
   ]
  },
  {
   "cell_type": "markdown",
   "id": "197631ea",
   "metadata": {},
   "source": [
    "<a id =4> </a>\n",
    "***\n",
    "## 4. Modify the Values in DataFrame"
   ]
  },
  {
   "cell_type": "markdown",
   "id": "d1a0df1a",
   "metadata": {},
   "source": [
    "***\n",
    "### Modify a single values"
   ]
  },
  {
   "cell_type": "code",
   "execution_count": 238,
   "id": "516e4422",
   "metadata": {
    "scrolled": false
   },
   "outputs": [
    {
     "data": {
      "text/html": [
       "<div>\n",
       "<style scoped>\n",
       "    .dataframe tbody tr th:only-of-type {\n",
       "        vertical-align: middle;\n",
       "    }\n",
       "\n",
       "    .dataframe tbody tr th {\n",
       "        vertical-align: top;\n",
       "    }\n",
       "\n",
       "    .dataframe thead th {\n",
       "        text-align: right;\n",
       "    }\n",
       "</style>\n",
       "<table border=\"1\" class=\"dataframe\">\n",
       "  <thead>\n",
       "    <tr style=\"text-align: right;\">\n",
       "      <th></th>\n",
       "      <th>Name</th>\n",
       "      <th>Heigh</th>\n",
       "    </tr>\n",
       "  </thead>\n",
       "  <tbody>\n",
       "    <tr>\n",
       "      <th>0</th>\n",
       "      <td>Allen</td>\n",
       "      <td>170</td>\n",
       "    </tr>\n",
       "    <tr>\n",
       "      <th>1</th>\n",
       "      <td>Shaun</td>\n",
       "      <td>180</td>\n",
       "    </tr>\n",
       "  </tbody>\n",
       "</table>\n",
       "</div>"
      ],
      "text/plain": [
       "    Name  Heigh\n",
       "0  Allen    170\n",
       "1  Shaun    180"
      ]
     },
     "execution_count": 238,
     "metadata": {},
     "output_type": "execute_result"
    }
   ],
   "source": [
    "# Modify a single value of DataFrame: df.at[row_ind, column_name]\n",
    "df.at[1,'Heigh'] = 180\n",
    "df"
   ]
  },
  {
   "cell_type": "markdown",
   "id": "f30c2e9e",
   "metadata": {},
   "source": [
    "*** \n",
    "### Replace contents according to condition "
   ]
  },
  {
   "cell_type": "code",
   "execution_count": 266,
   "id": "2476827e",
   "metadata": {},
   "outputs": [
    {
     "data": {
      "text/html": [
       "<div>\n",
       "<style scoped>\n",
       "    .dataframe tbody tr th:only-of-type {\n",
       "        vertical-align: middle;\n",
       "    }\n",
       "\n",
       "    .dataframe tbody tr th {\n",
       "        vertical-align: top;\n",
       "    }\n",
       "\n",
       "    .dataframe thead th {\n",
       "        text-align: right;\n",
       "    }\n",
       "</style>\n",
       "<table border=\"1\" class=\"dataframe\">\n",
       "  <thead>\n",
       "    <tr style=\"text-align: right;\">\n",
       "      <th></th>\n",
       "      <th>Name</th>\n",
       "      <th>Heigh</th>\n",
       "      <th>&gt; 175</th>\n",
       "    </tr>\n",
       "  </thead>\n",
       "  <tbody>\n",
       "    <tr>\n",
       "      <th>0</th>\n",
       "      <td>Allen</td>\n",
       "      <td>170</td>\n",
       "      <td>False</td>\n",
       "    </tr>\n",
       "    <tr>\n",
       "      <th>1</th>\n",
       "      <td>Shaun</td>\n",
       "      <td>180</td>\n",
       "      <td>True</td>\n",
       "    </tr>\n",
       "  </tbody>\n",
       "</table>\n",
       "</div>"
      ],
      "text/plain": [
       "    Name  Heigh  > 175\n",
       "0  Allen    170  False\n",
       "1  Shaun    180   True"
      ]
     },
     "execution_count": 266,
     "metadata": {},
     "output_type": "execute_result"
    }
   ],
   "source": [
    "import numpy as np\n",
    "# df = df['Heigh'].mask(condition, replace_value, inplace=True)\n",
    "df['> 175'] = False\n",
    "df['> 175'].mask(df['Heigh']>175 , True, inplace=True)\n",
    "df"
   ]
  },
  {
   "cell_type": "markdown",
   "id": "0f7296cb",
   "metadata": {},
   "source": [
    "***\n",
    "### Modify column name"
   ]
  },
  {
   "cell_type": "code",
   "execution_count": 267,
   "id": "2b436f0c",
   "metadata": {
    "scrolled": true
   },
   "outputs": [
    {
     "data": {
      "text/html": [
       "<div>\n",
       "<style scoped>\n",
       "    .dataframe tbody tr th:only-of-type {\n",
       "        vertical-align: middle;\n",
       "    }\n",
       "\n",
       "    .dataframe tbody tr th {\n",
       "        vertical-align: top;\n",
       "    }\n",
       "\n",
       "    .dataframe thead th {\n",
       "        text-align: right;\n",
       "    }\n",
       "</style>\n",
       "<table border=\"1\" class=\"dataframe\">\n",
       "  <thead>\n",
       "    <tr style=\"text-align: right;\">\n",
       "      <th></th>\n",
       "      <th>Name</th>\n",
       "      <th>Heigh (cm)</th>\n",
       "      <th>&gt; 175</th>\n",
       "    </tr>\n",
       "  </thead>\n",
       "  <tbody>\n",
       "    <tr>\n",
       "      <th>0</th>\n",
       "      <td>Allen</td>\n",
       "      <td>170</td>\n",
       "      <td>False</td>\n",
       "    </tr>\n",
       "    <tr>\n",
       "      <th>1</th>\n",
       "      <td>Shaun</td>\n",
       "      <td>180</td>\n",
       "      <td>True</td>\n",
       "    </tr>\n",
       "  </tbody>\n",
       "</table>\n",
       "</div>"
      ],
      "text/plain": [
       "    Name  Heigh (cm)  > 175\n",
       "0  Allen         170  False\n",
       "1  Shaun         180   True"
      ]
     },
     "execution_count": 267,
     "metadata": {},
     "output_type": "execute_result"
    }
   ],
   "source": [
    "# Modify the name of column: pd.rename(columns = {'old':'new'})\n",
    "df = df.rename(columns = {'Heigh':'Heigh (cm)'})\n",
    "df "
   ]
  },
  {
   "cell_type": "markdown",
   "id": "d2d2b3f7",
   "metadata": {},
   "source": [
    "<a id =5> </a>\n",
    "***\n",
    "## 5. Sort DataFrame"
   ]
  },
  {
   "cell_type": "code",
   "execution_count": 269,
   "id": "e770e9c1",
   "metadata": {},
   "outputs": [
    {
     "data": {
      "text/html": [
       "<div>\n",
       "<style scoped>\n",
       "    .dataframe tbody tr th:only-of-type {\n",
       "        vertical-align: middle;\n",
       "    }\n",
       "\n",
       "    .dataframe tbody tr th {\n",
       "        vertical-align: top;\n",
       "    }\n",
       "\n",
       "    .dataframe thead th {\n",
       "        text-align: right;\n",
       "    }\n",
       "</style>\n",
       "<table border=\"1\" class=\"dataframe\">\n",
       "  <thead>\n",
       "    <tr style=\"text-align: right;\">\n",
       "      <th></th>\n",
       "      <th>Name</th>\n",
       "      <th>Heigh (cm)</th>\n",
       "      <th>&gt; 175</th>\n",
       "    </tr>\n",
       "  </thead>\n",
       "  <tbody>\n",
       "    <tr>\n",
       "      <th>1</th>\n",
       "      <td>Shaun</td>\n",
       "      <td>180</td>\n",
       "      <td>True</td>\n",
       "    </tr>\n",
       "    <tr>\n",
       "      <th>0</th>\n",
       "      <td>Allen</td>\n",
       "      <td>170</td>\n",
       "      <td>False</td>\n",
       "    </tr>\n",
       "  </tbody>\n",
       "</table>\n",
       "</div>"
      ],
      "text/plain": [
       "    Name  Heigh (cm)  > 175\n",
       "1  Shaun         180   True\n",
       "0  Allen         170  False"
      ]
     },
     "execution_count": 269,
     "metadata": {},
     "output_type": "execute_result"
    }
   ],
   "source": [
    "# Sort by column with ascending/decresing order \n",
    "df = df.sort_values(by='Heigh (cm)', ascending=False)\n",
    "df "
   ]
  },
  {
   "cell_type": "markdown",
   "id": "503b4c50",
   "metadata": {},
   "source": [
    "<a id =6> </a>\n",
    "***\n",
    "## 6. Ravel DataFrame to Series"
   ]
  },
  {
   "cell_type": "code",
   "execution_count": 293,
   "id": "6f865af4",
   "metadata": {},
   "outputs": [
    {
     "data": {
      "text/html": [
       "<div>\n",
       "<style scoped>\n",
       "    .dataframe tbody tr th:only-of-type {\n",
       "        vertical-align: middle;\n",
       "    }\n",
       "\n",
       "    .dataframe tbody tr th {\n",
       "        vertical-align: top;\n",
       "    }\n",
       "\n",
       "    .dataframe thead th {\n",
       "        text-align: right;\n",
       "    }\n",
       "</style>\n",
       "<table border=\"1\" class=\"dataframe\">\n",
       "  <thead>\n",
       "    <tr style=\"text-align: right;\">\n",
       "      <th></th>\n",
       "      <th>Id</th>\n",
       "      <th>Heigh</th>\n",
       "      <th>Weight</th>\n",
       "    </tr>\n",
       "  </thead>\n",
       "  <tbody>\n",
       "    <tr>\n",
       "      <th>0</th>\n",
       "      <td>1</td>\n",
       "      <td>170</td>\n",
       "      <td>30</td>\n",
       "    </tr>\n",
       "    <tr>\n",
       "      <th>1</th>\n",
       "      <td>2</td>\n",
       "      <td>171</td>\n",
       "      <td>50</td>\n",
       "    </tr>\n",
       "    <tr>\n",
       "      <th>2</th>\n",
       "      <td>3</td>\n",
       "      <td>175</td>\n",
       "      <td>35</td>\n",
       "    </tr>\n",
       "    <tr>\n",
       "      <th>3</th>\n",
       "      <td>4</td>\n",
       "      <td>180</td>\n",
       "      <td>60</td>\n",
       "    </tr>\n",
       "  </tbody>\n",
       "</table>\n",
       "</div>"
      ],
      "text/plain": [
       "   Id  Heigh  Weight\n",
       "0   1    170      30\n",
       "1   2    171      50\n",
       "2   3    175      35\n",
       "3   4    180      60"
      ]
     },
     "execution_count": 293,
     "metadata": {},
     "output_type": "execute_result"
    }
   ],
   "source": [
    "# Ravel by 'C' order\n",
    "df = pd.DataFrame({'Id':[1,2,3,4], 'Heigh':[170,171,175,180],'Weight':[30,50,35,60]})\n",
    "ns1 = pd.Series(df.values.ravel('C')) # 'C' \n",
    "ns2 = pd.Series(df.values.ravel('K')) # 'C' \n",
    "df\n"
   ]
  },
  {
   "cell_type": "code",
   "execution_count": 295,
   "id": "cfd329f7",
   "metadata": {},
   "outputs": [
    {
     "data": {
      "text/plain": [
       "0       1\n",
       "1     170\n",
       "2      30\n",
       "3       2\n",
       "4     171\n",
       "5      50\n",
       "6       3\n",
       "7     175\n",
       "8      35\n",
       "9       4\n",
       "10    180\n",
       "11     60\n",
       "dtype: int64"
      ]
     },
     "execution_count": 295,
     "metadata": {},
     "output_type": "execute_result"
    }
   ],
   "source": [
    "# Ravel by 'C' order\n",
    "ns1"
   ]
  },
  {
   "cell_type": "code",
   "execution_count": 296,
   "id": "eb8d994a",
   "metadata": {},
   "outputs": [
    {
     "data": {
      "text/plain": [
       "0       1\n",
       "1       2\n",
       "2       3\n",
       "3       4\n",
       "4     170\n",
       "5     171\n",
       "6     175\n",
       "7     180\n",
       "8      30\n",
       "9      50\n",
       "10     35\n",
       "11     60\n",
       "dtype: int64"
      ]
     },
     "execution_count": 296,
     "metadata": {},
     "output_type": "execute_result"
    }
   ],
   "source": [
    "# Ravel by 'K' order\n",
    "ns2"
   ]
  },
  {
   "cell_type": "markdown",
   "id": "4940fa5e",
   "metadata": {},
   "source": [
    "<a id =7> </a>\n",
    "***\n",
    "## 7. CSV/Excel to DataFrame"
   ]
  },
  {
   "cell_type": "code",
   "execution_count": 299,
   "id": "020defeb",
   "metadata": {},
   "outputs": [
    {
     "data": {
      "text/plain": [
       "['Entry', 'Count', 'Cluster']"
      ]
     },
     "execution_count": 299,
     "metadata": {},
     "output_type": "execute_result"
    }
   ],
   "source": [
    "filenm = './examples/Cluster.csv'\n",
    "data = pd.read_csv(filenm)\n",
    "# data = pd.read_excel(filenm)\n",
    "list_of_column_names = list(data.columns)\n",
    "list_of_column_names"
   ]
  },
  {
   "cell_type": "code",
   "execution_count": 303,
   "id": "940ffa5f",
   "metadata": {},
   "outputs": [
    {
     "data": {
      "text/html": [
       "<div>\n",
       "<style scoped>\n",
       "    .dataframe tbody tr th:only-of-type {\n",
       "        vertical-align: middle;\n",
       "    }\n",
       "\n",
       "    .dataframe tbody tr th {\n",
       "        vertical-align: top;\n",
       "    }\n",
       "\n",
       "    .dataframe thead th {\n",
       "        text-align: right;\n",
       "    }\n",
       "</style>\n",
       "<table border=\"1\" class=\"dataframe\">\n",
       "  <thead>\n",
       "    <tr style=\"text-align: right;\">\n",
       "      <th></th>\n",
       "      <th>Entry</th>\n",
       "      <th>Cluster</th>\n",
       "      <th>Count</th>\n",
       "    </tr>\n",
       "  </thead>\n",
       "  <tbody>\n",
       "    <tr>\n",
       "      <th>0</th>\n",
       "      <td>A</td>\n",
       "      <td>13</td>\n",
       "      <td>3140</td>\n",
       "    </tr>\n",
       "    <tr>\n",
       "      <th>1</th>\n",
       "      <td>B</td>\n",
       "      <td>13</td>\n",
       "      <td>12</td>\n",
       "    </tr>\n",
       "    <tr>\n",
       "      <th>2</th>\n",
       "      <td>C</td>\n",
       "      <td>13</td>\n",
       "      <td>10</td>\n",
       "    </tr>\n",
       "    <tr>\n",
       "      <th>3</th>\n",
       "      <td>D</td>\n",
       "      <td>13</td>\n",
       "      <td>7</td>\n",
       "    </tr>\n",
       "    <tr>\n",
       "      <th>4</th>\n",
       "      <td>E</td>\n",
       "      <td>13</td>\n",
       "      <td>7</td>\n",
       "    </tr>\n",
       "    <tr>\n",
       "      <th>5</th>\n",
       "      <td>F</td>\n",
       "      <td>13</td>\n",
       "      <td>6</td>\n",
       "    </tr>\n",
       "    <tr>\n",
       "      <th>6</th>\n",
       "      <td>G</td>\n",
       "      <td>13</td>\n",
       "      <td>6</td>\n",
       "    </tr>\n",
       "  </tbody>\n",
       "</table>\n",
       "</div>"
      ],
      "text/plain": [
       "  Entry  Cluster  Count\n",
       "0     A       13   3140\n",
       "1     B       13     12\n",
       "2     C       13     10\n",
       "3     D       13      7\n",
       "4     E       13      7\n",
       "5     F       13      6\n",
       "6     G       13      6"
      ]
     },
     "execution_count": 303,
     "metadata": {},
     "output_type": "execute_result"
    }
   ],
   "source": [
    "# Define the order of columns \n",
    "df = pd.DataFrame(data, columns=[list_of_column_names[0],list_of_column_names[2],list_of_column_names[1]])\n",
    "df"
   ]
  },
  {
   "cell_type": "markdown",
   "id": "f1133bc1",
   "metadata": {},
   "source": [
    "[Back to Top](#99)"
   ]
  }
 ],
 "metadata": {
  "kernelspec": {
   "display_name": "Python 3 (ipykernel)",
   "language": "python",
   "name": "python3"
  },
  "language_info": {
   "codemirror_mode": {
    "name": "ipython",
    "version": 3
   },
   "file_extension": ".py",
   "mimetype": "text/x-python",
   "name": "python",
   "nbconvert_exporter": "python",
   "pygments_lexer": "ipython3",
   "version": "3.10.4"
  }
 },
 "nbformat": 4,
 "nbformat_minor": 5
}

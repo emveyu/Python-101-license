{
 "cells": [
  {
   "cell_type": "markdown",
   "id": "fa21cd19",
   "metadata": {},
   "source": [
    "# 3. Data Structure \n",
    "***\n",
    "## Python Built-in Structure\n",
    "* List\n",
    "* Dictionary\n",
    "* Tuple: immutable data\n",
    "> Reference: \n",
    "<br> [Introduction to Data Science: Python 資料結構](./reference/Python_資料結構.ipynb)\n",
    " "
   ]
  },
  {
   "cell_type": "markdown",
   "id": "d3356b15",
   "metadata": {},
   "source": [
    "***\n",
    "## Numpy\n",
    "* Array\n",
    "> Reference:\n",
    "<br> [Introduction to Data Science: Numpy 矩陣](./reference/Numpy_矩陣.ipynb)\n"
   ]
  },
  {
   "cell_type": "markdown",
   "id": "027d0ea0",
   "metadata": {},
   "source": [
    "***\n",
    "## Pandas\n",
    "* DataFrame\n",
    "> Reference: \n",
    "<br> [Introduction to Data Science: DataFrame_基本處理](./reference/DataFrame_基本處理.ipynb)"
   ]
  },
  {
   "cell_type": "markdown",
   "id": "d773c5c9",
   "metadata": {},
   "source": [
    "*** \n",
    "## TensorFlow\n",
    "* Tensor"
   ]
  }
 ],
 "metadata": {
  "kernelspec": {
   "display_name": "Python 3 (ipykernel)",
   "language": "python",
   "name": "python3"
  },
  "language_info": {
   "codemirror_mode": {
    "name": "ipython",
    "version": 3
   },
   "file_extension": ".py",
   "mimetype": "text/x-python",
   "name": "python",
   "nbconvert_exporter": "python",
   "pygments_lexer": "ipython3",
   "version": "3.10.4"
  }
 },
 "nbformat": 4,
 "nbformat_minor": 5
}

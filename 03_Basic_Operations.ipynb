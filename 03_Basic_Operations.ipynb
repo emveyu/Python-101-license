{
 "cells": [
  {
   "cell_type": "markdown",
   "id": "77337596",
   "metadata": {},
   "source": [
    "<a id = 99> </a>\n",
    "# 3. Basic Operations\n",
    "* [Boolean, Integer, Float, and String](#1)\n",
    "* [Type Coversion](#2)\n",
    "* [Math Operations](#3)\n",
    "* [String Operations](#4)\n",
    "* [If, elif and else Statements](#5)\n",
    "* [for and while loop](#6)\n",
    "* [Condition](#7)\n",
    "* [Class and Functions](#9)\n",
    "* [Name Mangling: How to Use Underscores](#10)\n",
    "* [With As: Opening and Writing Files](#8)\n"
   ]
  },
  {
   "cell_type": "markdown",
   "id": "76bd15be",
   "metadata": {},
   "source": [
    "<a id = 1> </a>\n",
    "***\n",
    "## Boolean, Integer, Float and String"
   ]
  },
  {
   "cell_type": "code",
   "execution_count": 121,
   "id": "1f2f7e59",
   "metadata": {},
   "outputs": [
    {
     "name": "stdout",
     "output_type": "stream",
     "text": [
      "[<class 'bool'>, <class 'int'>, <class 'float'>, <class 'str'>]\n"
     ]
    }
   ],
   "source": [
    "x = True\n",
    "y = 10\n",
    "z = 3.1416\n",
    "s = 'Hellow World!'\n",
    "print([type(x), type(y), type(z), type(s)])"
   ]
  },
  {
   "cell_type": "markdown",
   "id": "e5d259de",
   "metadata": {},
   "source": [
    "<a id = 2> </a>\n",
    "***\n",
    "## Type Coversion "
   ]
  },
  {
   "cell_type": "code",
   "execution_count": 120,
   "id": "25719c77",
   "metadata": {},
   "outputs": [
    {
     "name": "stdout",
     "output_type": "stream",
     "text": [
      "[12.3, 6.4, 6.5, 100]\n",
      "[<class 'float'>, <class 'float'>, <class 'float'>, <class 'int'>]\n",
      "['12.3', 6, 6, 100.0]\n",
      "[<class 'str'>, <class 'int'>, <class 'int'>, <class 'float'>]\n"
     ]
    }
   ],
   "source": [
    "a=12.3; b=6.4; c=6.5; d=100\n",
    "print([a, b, c, d])\n",
    "print([type(a), type(b), type(c), type(d)])\n",
    "a=str(a); b=int(b); c=int(c); d=float(d)\n",
    "print([a, b, c, d])\n",
    "print([type(a), type(b), type(c), type(d)])"
   ]
  },
  {
   "cell_type": "markdown",
   "id": "c8d4c5ed",
   "metadata": {},
   "source": [
    "<a id = 3> </a>\n",
    "***\n",
    "## Math Operations "
   ]
  },
  {
   "cell_type": "code",
   "execution_count": 122,
   "id": "8c8f26ba",
   "metadata": {},
   "outputs": [
    {
     "name": "stdout",
     "output_type": "stream",
     "text": [
      "addition: 3\n",
      "substraction: -1\n",
      "multiplication: 2\n",
      "division: 0.5\n",
      "mod: 3\n",
      "power: 8\n",
      "round: 2.65\n",
      "round: 2.7\n"
     ]
    }
   ],
   "source": [
    "print('addition:',1+2) \n",
    "print('substraction:',1-2)  \n",
    "print('multiplication:',1*2)  \n",
    "print('division:', 1/2) \n",
    "print('mod:', 7%4)  \n",
    "print('power:', 2**3)  \n",
    "print('round:',round(2.654, 2)) \n",
    "print('round:',round(2.654, 1)) "
   ]
  },
  {
   "cell_type": "markdown",
   "id": "ce3381b2",
   "metadata": {},
   "source": [
    "<a id = 4> </a>\n",
    "***\n",
    "## String Operations "
   ]
  },
  {
   "cell_type": "code",
   "execution_count": 64,
   "id": "920a34e2",
   "metadata": {},
   "outputs": [
    {
     "data": {
      "text/plain": [
       "'Hello Hello Hello World'"
      ]
     },
     "execution_count": 64,
     "metadata": {},
     "output_type": "execute_result"
    }
   ],
   "source": [
    "str1 = 'Hello '\n",
    "str2 = 'World'\n",
    "str1*3+str2"
   ]
  },
  {
   "cell_type": "code",
   "execution_count": 68,
   "id": "a1c5d7af",
   "metadata": {
    "scrolled": true
   },
   "outputs": [
    {
     "name": "stdout",
     "output_type": "stream",
     "text": [
      "Hello Hello \n",
      "llo Hell\n",
      "Hlo\n"
     ]
    }
   ],
   "source": [
    "# [strat:end ind:space]\n",
    "print(str1[:]+str1[:])\n",
    "print(str1[2:]+str1[:-2])\n",
    "print(str1[::2]) "
   ]
  },
  {
   "cell_type": "code",
   "execution_count": 42,
   "id": "62201d1f",
   "metadata": {},
   "outputs": [
    {
     "data": {
      "text/plain": [
       "6"
      ]
     },
     "execution_count": 42,
     "metadata": {},
     "output_type": "execute_result"
    }
   ],
   "source": [
    "# string length\n",
    "len(str1)"
   ]
  },
  {
   "cell_type": "code",
   "execution_count": 70,
   "id": "70362530",
   "metadata": {},
   "outputs": [
    {
     "data": {
      "text/plain": [
       "['apple', ' watch', ' orange']"
      ]
     },
     "execution_count": 70,
     "metadata": {},
     "output_type": "execute_result"
    }
   ],
   "source": [
    "# split string\n",
    "str3='apple, watch, orange'\n",
    "sstr = str3.split(',')\n",
    "sstr"
   ]
  },
  {
   "cell_type": "code",
   "execution_count": 73,
   "id": "1a4b1166",
   "metadata": {},
   "outputs": [
    {
     "data": {
      "text/plain": [
       "'apple, watch, orange'"
      ]
     },
     "execution_count": 73,
     "metadata": {},
     "output_type": "execute_result"
    }
   ],
   "source": [
    "# join all elements in the list with \",\"\n",
    "\",\".join(sstr) "
   ]
  },
  {
   "cell_type": "code",
   "execution_count": 63,
   "id": "6e5a5b86",
   "metadata": {
    "scrolled": false
   },
   "outputs": [
    {
     "name": "stdout",
     "output_type": "stream",
     "text": [
      "hello WORLD\n"
     ]
    }
   ],
   "source": [
    "# Lower and upper\n",
    "print(str1.lower()+str2.upper())"
   ]
  },
  {
   "cell_type": "code",
   "execution_count": 100,
   "id": "e60cd27c",
   "metadata": {},
   "outputs": [
    {
     "data": {
      "text/plain": [
       "'apple; watch; orange'"
      ]
     },
     "execution_count": 100,
     "metadata": {},
     "output_type": "execute_result"
    }
   ],
   "source": [
    "# string replace\n",
    "str3.replace(',',';')"
   ]
  },
  {
   "cell_type": "markdown",
   "id": "7221aad5",
   "metadata": {},
   "source": [
    "<a id = 5> </a>\n",
    "***\n",
    "## If, elif and else Statements\n"
   ]
  },
  {
   "cell_type": "code",
   "execution_count": 146,
   "id": "19b3191a",
   "metadata": {},
   "outputs": [
    {
     "name": "stdout",
     "output_type": "stream",
     "text": [
      "1\n"
     ]
    }
   ],
   "source": [
    "x = 1\n",
    "if x==1:\n",
    "    print(1)\n",
    "elif x==2:\n",
    "    print(2)\n",
    "else:\n",
    "    print('other')"
   ]
  },
  {
   "cell_type": "markdown",
   "id": "6102f935",
   "metadata": {},
   "source": [
    "<a id = 6> </a>\n",
    "***\n",
    "## for and while loop\n"
   ]
  },
  {
   "cell_type": "code",
   "execution_count": 79,
   "id": "7cb9f9fb",
   "metadata": {},
   "outputs": [
    {
     "name": "stdout",
     "output_type": "stream",
     "text": [
      "1\n",
      "2\n"
     ]
    }
   ],
   "source": [
    "# while loop\n",
    "i = 1\n",
    "while i<4:\n",
    "    print(i)\n",
    "    i += 1"
   ]
  },
  {
   "cell_type": "code",
   "execution_count": 81,
   "id": "897ce0f5",
   "metadata": {},
   "outputs": [
    {
     "name": "stdout",
     "output_type": "stream",
     "text": [
      "0\n",
      "1\n",
      "2\n"
     ]
    }
   ],
   "source": [
    "# for loop\n",
    "for i in range(3):\n",
    "    print(i) "
   ]
  },
  {
   "cell_type": "code",
   "execution_count": 78,
   "id": "2ee44df1",
   "metadata": {},
   "outputs": [
    {
     "name": "stdout",
     "output_type": "stream",
     "text": [
      "apple\n",
      "banna\n",
      "pineapple\n"
     ]
    }
   ],
   "source": [
    "# for loop\n",
    "ls = ['apple', 'banna', 'pineapple']\n",
    "for i in ls:\n",
    "    print(i) "
   ]
  },
  {
   "cell_type": "markdown",
   "id": "071f3407",
   "metadata": {},
   "source": [
    "<a id = 7> </a>\n",
    "***\n",
    "## Condition "
   ]
  },
  {
   "cell_type": "code",
   "execution_count": 110,
   "id": "abba2006",
   "metadata": {},
   "outputs": [
    {
     "name": "stdout",
     "output_type": "stream",
     "text": [
      "str2==100? True\n",
      "'He' in str1? True\n",
      "All str1 upper? False\n",
      "All str1 lower? False\n",
      "str2 numeric? True\n"
     ]
    }
   ],
   "source": [
    "# String\n",
    "str1 = 'Hello world'\n",
    "str2 = '100'\n",
    "print(\"str2==100?\", str2 == '100')\n",
    "print(\"'He' in str1?\", 'He' in str1)\n",
    "print(\"All str1 upper?\",str1.isupper())\n",
    "print(\"All str1 lower?\",str1.islower())\n",
    "print(\"str2 numeric?\",str2.isnumeric())"
   ]
  },
  {
   "cell_type": "code",
   "execution_count": 111,
   "id": "739485e0",
   "metadata": {},
   "outputs": [
    {
     "name": "stdout",
     "output_type": "stream",
     "text": [
      "a==b equal? False\n",
      "a!=b not equal? True\n",
      "a>=b? False\n",
      "a<b? True\n"
     ]
    }
   ],
   "source": [
    "# Number\n",
    "a = 3\n",
    "b = 4\n",
    "print('a==b equal?', a==b) \n",
    "print('a!=b not equal?', a!=b) \n",
    "print('a>=b?', a>=b)\n",
    "print('a<b?', a<b)"
   ]
  },
  {
   "cell_type": "code",
   "execution_count": 99,
   "id": "a6daba71",
   "metadata": {},
   "outputs": [
    {
     "name": "stdout",
     "output_type": "stream",
     "text": [
      "True\n",
      "False\n"
     ]
    }
   ],
   "source": [
    "# Boolean\n",
    "print(True|False)\n",
    "print(True&False)"
   ]
  },
  {
   "cell_type": "markdown",
   "id": "4de9eb48",
   "metadata": {},
   "source": [
    "<a id = 9> </a>\n",
    "***\n",
    "## Class and Functions"
   ]
  },
  {
   "cell_type": "markdown",
   "id": "2ae76116",
   "metadata": {},
   "source": [
    "#### Define a function"
   ]
  },
  {
   "cell_type": "code",
   "execution_count": 178,
   "id": "3a04b14d",
   "metadata": {},
   "outputs": [
    {
     "name": "stdout",
     "output_type": "stream",
     "text": [
      "1\n",
      "5\n"
     ]
    }
   ],
   "source": [
    "def print_value(values = 1): # you can assign a default value \n",
    "    print(values) # content of functions\n",
    "    \n",
    "print_value() # perform function without giving inputs \n",
    "print_value(5) # perform function with inputs\n"
   ]
  },
  {
   "cell_type": "markdown",
   "id": "06b2fd5a",
   "metadata": {},
   "source": [
    "#### Define a class with \\_\\_init__(self)\n",
    "* Variables witth double underscores prefix and postfix are reserved for Python’s internal Type and Class implementation"
   ]
  },
  {
   "cell_type": "code",
   "execution_count": 186,
   "id": "ec8c757b",
   "metadata": {},
   "outputs": [
    {
     "name": "stdout",
     "output_type": "stream",
     "text": [
      "Benz\n",
      "120\n",
      "Toyota\n"
     ]
    }
   ],
   "source": [
    "# Python automatically calls __init__ when we create a new object. \n",
    "# 'self' always is the first parameter\n",
    "# Give initial attributes to self \n",
    "class cars: \n",
    "    def __init__(self, name='Toyota', length=60):\n",
    "        self.nm = name\n",
    "        self.leng = length\n",
    "\n",
    "# create a object\n",
    "carA = cars('Benz',100) \n",
    "carB = cars('Audi',120)\n",
    "carC = cars()\n",
    "print(carA.nm)\n",
    "print(carB.leng)\n",
    "print(carC.nm)"
   ]
  },
  {
   "cell_type": "markdown",
   "id": "33d5cf17",
   "metadata": {},
   "source": [
    "#### What is if __name__ == '__main__'?\n",
    "> [Reference](http://blog.castman.net/%E6%95%99%E5%AD%B8/2018/01/27/python-name-main.html)"
   ]
  },
  {
   "cell_type": "markdown",
   "id": "56908435",
   "metadata": {},
   "source": [
    "<a id = 10> </a>\n",
    "***\n",
    "## Name Mangling: How to Use Underscoreses\n"
   ]
  },
  {
   "cell_type": "markdown",
   "id": "ca1f9ec1",
   "metadata": {},
   "source": [
    "#### \\_\\_double__ underscore prefix and postfix\n",
    "* Specific variables are reserved for Python’s internal Type and Class implementation"
   ]
  },
  {
   "cell_type": "markdown",
   "id": "f36fb32c",
   "metadata": {},
   "source": [
    "***\n",
    "#### \\_single underscore prefix\n",
    "* Defining an private object which only can be used within the class where you define it"
   ]
  },
  {
   "cell_type": "code",
   "execution_count": 177,
   "id": "3f3f4a33",
   "metadata": {},
   "outputs": [
    {
     "name": "stdout",
     "output_type": "stream",
     "text": [
      "Shaun\n",
      "96\n"
     ]
    }
   ],
   "source": [
    "class student:\n",
    "    def __init__(self, name, score):\n",
    "        self._name = name\n",
    "        self._score = score\n",
    "        \n",
    "    def print_name(self):\n",
    "        print(self._name)\n",
    "    \n",
    "    def print_score(self):\n",
    "        print(self._score)\n",
    "\n",
    "A = student('Shaun', 96)\n",
    "A.print_name()\n",
    "A.print_score()"
   ]
  },
  {
   "cell_type": "markdown",
   "id": "739a516f",
   "metadata": {},
   "source": [
    "*** \n",
    "#### __double underscore prefix\n",
    "* Using a double underscore prefix for a class object will “mangle” the attribute, meaning the attribute name will be modified to avoid naming collisions with attributes from other classes, specifically subclasses.\n",
    "> If your class is intended to be subclassed, and you have attributes that you do not want subclasses to use, consider naming them with double leading underscores and no trailing underscores. [Referece](https://medium.com/analytics-vidhya/python-name-mangling-and-how-to-use-underscores-e67b529f744f)"
   ]
  },
  {
   "cell_type": "code",
   "execution_count": 187,
   "id": "e42bd41e",
   "metadata": {},
   "outputs": [
    {
     "data": {
      "text/plain": [
       "10"
      ]
     },
     "execution_count": 187,
     "metadata": {},
     "output_type": "execute_result"
    }
   ],
   "source": [
    "# __xxx will be mangled to _classname__xxx. \n",
    "class tools:\n",
    "    def __init__(self):\n",
    "        self.__bar = 10\n",
    "        \n",
    "a = tools()\n",
    "a._tools__bar"
   ]
  },
  {
   "cell_type": "markdown",
   "id": "e3674647",
   "metadata": {},
   "source": [
    "***\n",
    "#### single_ underscore postfix\n",
    "* It is used to prevent conflict with reserved python keywords such as ['False', 'None', 'True', 'and', 'as', 'assert', 'async', 'await', 'break', 'class', 'continue', 'def', 'del', 'elif', 'else', 'except', 'finally', 'for', 'from', 'global', 'if', 'import', 'in', 'is', 'lambda', 'nonlocal', 'not', 'or', 'pass', 'raise', 'return', 'try', 'while', 'with', 'yield']. "
   ]
  },
  {
   "cell_type": "markdown",
   "id": "6e453e8e",
   "metadata": {},
   "source": [
    "<a id = 8> </a>\n",
    "***\n",
    "## With As for Opening and Writing Files"
   ]
  },
  {
   "cell_type": "code",
   "execution_count": 148,
   "id": "65bf78ba",
   "metadata": {},
   "outputs": [],
   "source": [
    "filedir = './examples/220912-HLx1.txt'\n",
    "fileoutput = './examples/220912-HLx1-280nm.txt'\n",
    "# open \n",
    "start_flag = False\n",
    "wait=3\n",
    "spacer='\t'\n",
    "columnum=2\n",
    "with open(filedir,'r') as f1, open(fileoutput,'w') as f2:\n",
    "    for line in f1.readlines():\n",
    "        if ('Wavelength(nm)\t280' in line): \n",
    "            start_flag = True\n",
    "        if wait<=0: # start to record data\n",
    "            s = line.split(spacer)\n",
    "            if len(s)<columnum: \n",
    "                break\n",
    "            outputline = [s[0]+'\t'+s[1]+'\\n']\n",
    "            f2.writelines(outputline)\n",
    "        if start_flag: \n",
    "            wait=wait-1   # distance between startflag and the real location of recording  \n",
    "            \n",
    "        "
   ]
  },
  {
   "cell_type": "markdown",
   "id": "f4701116",
   "metadata": {},
   "source": [
    "[Back to Top](#99)"
   ]
  }
 ],
 "metadata": {
  "kernelspec": {
   "display_name": "Python 3 (ipykernel)",
   "language": "python",
   "name": "python3"
  },
  "language_info": {
   "codemirror_mode": {
    "name": "ipython",
    "version": 3
   },
   "file_extension": ".py",
   "mimetype": "text/x-python",
   "name": "python",
   "nbconvert_exporter": "python",
   "pygments_lexer": "ipython3",
   "version": "3.10.4"
  }
 },
 "nbformat": 4,
 "nbformat_minor": 5
}

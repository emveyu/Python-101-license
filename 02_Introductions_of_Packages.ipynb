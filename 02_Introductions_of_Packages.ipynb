{
 "cells": [
  {
   "cell_type": "markdown",
   "id": "b2fb8742",
   "metadata": {},
   "source": [
    "# 2. Introduction of Packages\n",
    "***\n",
    "## Data Structure\n",
    "* [Pandas](https://pandas.pydata.org/pandas-docs/version/1.3/user_guide/10min.html#): provide DataFrame structure\n",
    "\n",
    "***\n",
    "## Mathematical Processes \n",
    "* [Numpy](https://numpy.org/doc/stable/user/quickstart.html)\n",
    "* [SciPy](https://docs.scipy.org/doc/scipy/tutorial/index.html#user-guide): [fourier transforms](https://docs.scipy.org/doc/scipy/tutorial/fft.html), [singular value decomposition](https://docs.scipy.org/doc/scipy/reference/generated/scipy.linalg.svd.html)\n",
    "\n",
    "***\n",
    "## Plotting Tools\n",
    "* Stastic:   \n",
    "    * [Matplotlib](https://matplotlib.org/stable/tutorials/introductory/quick_start.html)\n",
    "    * [Seaborn](https://seaborn.pydata.org/examples/index.html): more compatible with Pandas\n",
    "* Interactive: \n",
    "    * [HoloViews](https://holoviews.org/gallery/index.html): hover tools\n",
    "    * [Bokeh](http://docs.bokeh.org/en/0.12.0/docs/user_guide/quickstart.html)\n",
    "    * [Plotly](https://plotly.com/python/getting-started/)\n",
    "\n",
    "***\n",
    "## Chemical Structure Tools\n",
    "* [RDKit](https://www.rdkit.org/docs/GettingStartedInPython.html)\n",
    "\n",
    "***\n",
    "## Clustering Tools \n",
    "* [umap-learn](https://umap-learn.readthedocs.io/en/latest/basic_usage.html): Uniform Manifold Approximation and Projection (UMAP) \n",
    "* [hdbscan](https://hdbscan.readthedocs.io/en/latest/how_hdbscan_works.html): Hierarchical DBSCAN\n",
    "\n",
    "***\n",
    "## Machine Learning \n",
    "* [Scikit-learn](https://scikit-learn.org/stable/user_guide.html)\n",
    "* [TensorFlow](https://www.tensorflow.org/tutorials)\n"
   ]
  },
  {
   "cell_type": "code",
   "execution_count": null,
   "id": "52eddd6a",
   "metadata": {},
   "outputs": [],
   "source": []
  }
 ],
 "metadata": {
  "kernelspec": {
   "display_name": "Python 3 (ipykernel)",
   "language": "python",
   "name": "python3"
  },
  "language_info": {
   "codemirror_mode": {
    "name": "ipython",
    "version": 3
   },
   "file_extension": ".py",
   "mimetype": "text/x-python",
   "name": "python",
   "nbconvert_exporter": "python",
   "pygments_lexer": "ipython3",
   "version": "3.10.4"
  }
 },
 "nbformat": 4,
 "nbformat_minor": 5
}

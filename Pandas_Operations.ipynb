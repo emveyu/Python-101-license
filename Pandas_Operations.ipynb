{
 "cells": [
  {
   "cell_type": "markdown",
   "id": "77c48ced",
   "metadata": {},
   "source": [
    "# Pandas - DataFrame Operations\n",
    "***\n",
    "\n",
    "### Summation "
   ]
  },
  {
   "cell_type": "code",
   "execution_count": 5,
   "id": "a54f1ba1",
   "metadata": {},
   "outputs": [
    {
     "data": {
      "text/plain": [
       "379"
      ]
     },
     "execution_count": 5,
     "metadata": {},
     "output_type": "execute_result"
    }
   ],
   "source": [
    "# Summation \n",
    "import pandas as pd\n",
    "import numpy as np\n",
    "df = pd.DataFrame({'ID':np.arange(1,6), 'score': [90, 80, 99, 50, 60]})\n",
    "total_count = df['score'].sum()\n",
    "total_count"
   ]
  },
  {
   "cell_type": "code",
   "execution_count": null,
   "id": "dcd0a599",
   "metadata": {},
   "outputs": [],
   "source": []
  }
 ],
 "metadata": {
  "kernelspec": {
   "display_name": "Python 3 (ipykernel)",
   "language": "python",
   "name": "python3"
  },
  "language_info": {
   "codemirror_mode": {
    "name": "ipython",
    "version": 3
   },
   "file_extension": ".py",
   "mimetype": "text/x-python",
   "name": "python",
   "nbconvert_exporter": "python",
   "pygments_lexer": "ipython3",
   "version": "3.10.4"
  }
 },
 "nbformat": 4,
 "nbformat_minor": 5
}

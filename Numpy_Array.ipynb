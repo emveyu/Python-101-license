{
 "cells": [
  {
   "cell_type": "markdown",
   "id": "316515f1",
   "metadata": {},
   "source": [
    "# [Numpy Array](https://numpy.org/doc/stable/reference/routines.array-creation.html)"
   ]
  },
  {
   "cell_type": "markdown",
   "id": "0eca77d4",
   "metadata": {},
   "source": [
    "<a id = 1></a>\n",
    "***\n",
    "### Array construction  "
   ]
  },
  {
   "cell_type": "code",
   "execution_count": 1,
   "id": "d2df776c",
   "metadata": {},
   "outputs": [
    {
     "name": "stdout",
     "output_type": "stream",
     "text": [
      "[1 2 3 5]\n"
     ]
    },
    {
     "data": {
      "text/plain": [
       "3"
      ]
     },
     "execution_count": 1,
     "metadata": {},
     "output_type": "execute_result"
    }
   ],
   "source": [
    "# 1D array\n",
    "import numpy as np\n",
    "data = [1,2,3,5]\n",
    "np_array = np.array(data)\n",
    "print(np_array)\n",
    "# get values\n",
    "np_array[2]"
   ]
  },
  {
   "cell_type": "code",
   "execution_count": 4,
   "id": "a7494af9",
   "metadata": {},
   "outputs": [
    {
     "name": "stdout",
     "output_type": "stream",
     "text": [
      "[[1 2 3]\n",
      " [3 5 7]\n",
      " [2 6 8]\n",
      " [7 8 9]]\n",
      "index [1][0]:  3\n",
      "index [0:1]:  [[1 2 3]\n",
      " [3 5 7]]\n"
     ]
    }
   ],
   "source": [
    "# 2D array (ndarray)\n",
    "data = [[1,2,3],[3,5,7],[2,6,8],[7,8,9]]\n",
    "np_ndarray = np.array(data)\n",
    "print(np_ndarray)\n",
    "# get values \n",
    "print('index [1][0]: ', np_ndarray[1][0])\n",
    "print('index [0:1]: ', np_ndarray[0:2])"
   ]
  },
  {
   "cell_type": "code",
   "execution_count": 17,
   "id": "edf541ad",
   "metadata": {},
   "outputs": [
    {
     "name": "stdout",
     "output_type": "stream",
     "text": [
      "eye:\n",
      " [[1. 0. 0.]\n",
      " [0. 1. 0.]\n",
      " [0. 0. 1.]]\n",
      "ones:\n",
      " [[1. 1. 1.]\n",
      " [1. 1. 1.]]\n",
      "zeros:\n",
      " [[0. 0. 0.]\n",
      " [0. 0. 0.]]\n"
     ]
    }
   ],
   "source": [
    "# eye, zeros, ones\n",
    "print('eye:\\n',np.eye(3))\n",
    "print('ones:\\n', np.ones((2,3)))\n",
    "print('zeros:\\n', np.zeros((2,3)))"
   ]
  },
  {
   "cell_type": "code",
   "execution_count": 18,
   "id": "aa243f74",
   "metadata": {},
   "outputs": [
    {
     "name": "stdout",
     "output_type": "stream",
     "text": [
      "[[0.40620508 0.71889066 0.84637163]\n",
      " [0.81460958 0.4583199  0.54378808]]\n"
     ]
    }
   ],
   "source": [
    "# random \n",
    "print(np.random.random((2,3)))"
   ]
  },
  {
   "cell_type": "markdown",
   "id": "802dc524",
   "metadata": {},
   "source": [
    "*** \n",
    "### Reshape array"
   ]
  },
  {
   "cell_type": "code",
   "execution_count": 6,
   "id": "3a0bc687",
   "metadata": {},
   "outputs": [
    {
     "data": {
      "text/plain": [
       "(4, 3)"
      ]
     },
     "execution_count": 6,
     "metadata": {},
     "output_type": "execute_result"
    }
   ],
   "source": [
    "# show shape => return (row#, column#) \n",
    "np_ndarray.shape"
   ]
  },
  {
   "cell_type": "code",
   "execution_count": 9,
   "id": "3483dcb8",
   "metadata": {
    "scrolled": true
   },
   "outputs": [
    {
     "name": "stdout",
     "output_type": "stream",
     "text": [
      "[0 1 2 3 4 5]\n",
      "[[0 1]\n",
      " [2 3]\n",
      " [4 5]]\n"
     ]
    }
   ],
   "source": [
    "# reshape((new row#, new column#))\n",
    "a = np.arange(6)\n",
    "print(a)\n",
    "print(a.reshape((3, 2)))"
   ]
  }
 ],
 "metadata": {
  "kernelspec": {
   "display_name": "Python 3 (ipykernel)",
   "language": "python",
   "name": "python3"
  },
  "language_info": {
   "codemirror_mode": {
    "name": "ipython",
    "version": 3
   },
   "file_extension": ".py",
   "mimetype": "text/x-python",
   "name": "python",
   "nbconvert_exporter": "python",
   "pygments_lexer": "ipython3",
   "version": "3.10.4"
  }
 },
 "nbformat": 4,
 "nbformat_minor": 5
}

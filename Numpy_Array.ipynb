{
 "cells": [
  {
   "cell_type": "markdown",
   "id": "5cc444ed",
   "metadata": {},
   "source": [
    "# [Numpy Array](https://numpy.org/doc/stable/reference/routines.array-creation.html)\n",
    "* [Array constuction](#1)\n",
    "* "
   ]
  },
  {
   "cell_type": "markdown",
   "id": "8fb1f87b",
   "metadata": {},
   "source": [
    "<a id = 1></a>\n",
    "***\n",
    "### Array Construction  "
   ]
  },
  {
   "cell_type": "code",
   "execution_count": 1,
   "id": "cc7c71bc",
   "metadata": {},
   "outputs": [
    {
     "name": "stdout",
     "output_type": "stream",
     "text": [
      "[1 2 3 5]\n"
     ]
    },
    {
     "data": {
      "text/plain": [
       "3"
      ]
     },
     "execution_count": 1,
     "metadata": {},
     "output_type": "execute_result"
    }
   ],
   "source": [
    "# 1D array\n",
    "import numpy as np\n",
    "data = [1,2,3,5]\n",
    "np_array = np.array(data)\n",
    "print(np_array)\n",
    "# get values\n",
    "np_array[2]"
   ]
  },
  {
   "cell_type": "code",
   "execution_count": 2,
   "id": "d2180c28",
   "metadata": {},
   "outputs": [
    {
     "name": "stdout",
     "output_type": "stream",
     "text": [
      "[[1 2 3]\n",
      " [3 5 7]\n",
      " [2 6 8]]\n",
      "index [1][0]:  3\n",
      "index [0:1]:  [[1 2 3]\n",
      " [3 5 7]]\n"
     ]
    }
   ],
   "source": [
    "# 2D array (ndarray)\n",
    "data = [[1,2,3],[3,5,7],[2,6,8]]\n",
    "np_ndarray = np.array(data)\n",
    "print(np_ndarray)\n",
    "# get values \n",
    "print('index [1][0]: ', np_ndarray[1][0])\n",
    "print('index [0:1]: ', np_ndarray[0:2])"
   ]
  }
 ],
 "metadata": {
  "kernelspec": {
   "display_name": "Python 3 (ipykernel)",
   "language": "python",
   "name": "python3"
  },
  "language_info": {
   "codemirror_mode": {
    "name": "ipython",
    "version": 3
   },
   "file_extension": ".py",
   "mimetype": "text/x-python",
   "name": "python",
   "nbconvert_exporter": "python",
   "pygments_lexer": "ipython3",
   "version": "3.10.4"
  }
 },
 "nbformat": 4,
 "nbformat_minor": 5
}

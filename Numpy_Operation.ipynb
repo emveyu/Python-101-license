{
 "cells": [
  {
   "cell_type": "markdown",
   "id": "3a97cf68",
   "metadata": {},
   "source": [
    "# [Numpy Operations](https://numpy.org/doc/stable/reference/routines.array-manipulation.html#)\n"
   ]
  },
  {
   "cell_type": "markdown",
   "id": "12226372",
   "metadata": {},
   "source": [
    "*** \n",
    "### Transpose"
   ]
  },
  {
   "cell_type": "code",
   "execution_count": 2,
   "id": "8ae3a7b8",
   "metadata": {},
   "outputs": [
    {
     "name": "stdout",
     "output_type": "stream",
     "text": [
      "[[1 2 3]\n",
      " [3 5 7]\n",
      " [2 6 8]]\n"
     ]
    },
    {
     "data": {
      "text/plain": [
       "array([[1, 3, 2],\n",
       "       [2, 5, 6],\n",
       "       [3, 7, 8]])"
      ]
     },
     "execution_count": 2,
     "metadata": {},
     "output_type": "execute_result"
    }
   ],
   "source": [
    "import numpy as np\n",
    "# transpose\n",
    "data = [[1,2,3],[3,5,7],[2,6,8]]\n",
    "a =np.array(data)\n",
    "print(a)\n",
    "a.transpose() # or np.transpose(a)"
   ]
  }
 ],
 "metadata": {
  "kernelspec": {
   "display_name": "Python 3 (ipykernel)",
   "language": "python",
   "name": "python3"
  },
  "language_info": {
   "codemirror_mode": {
    "name": "ipython",
    "version": 3
   },
   "file_extension": ".py",
   "mimetype": "text/x-python",
   "name": "python",
   "nbconvert_exporter": "python",
   "pygments_lexer": "ipython3",
   "version": "3.10.4"
  }
 },
 "nbformat": 4,
 "nbformat_minor": 5
}

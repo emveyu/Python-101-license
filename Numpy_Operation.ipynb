{
 "cells": [
  {
   "cell_type": "markdown",
   "id": "b53e6b3c",
   "metadata": {},
   "source": [
    "# [Numpy Operations](https://numpy.org/doc/stable/reference/routines.array-manipulation.html#)\n",
    "\n",
    "***"
   ]
  },
  {
   "cell_type": "markdown",
   "id": "debd87e0",
   "metadata": {},
   "source": [
    "### Math operations"
   ]
  },
  {
   "cell_type": "code",
   "execution_count": 31,
   "id": "d6cfa59b",
   "metadata": {},
   "outputs": [
    {
     "name": "stdout",
     "output_type": "stream",
     "text": [
      "A:\n",
      " [[-4. -4. -4. -4.]\n",
      " [-4. -4. -4. -4.]\n",
      " [-4. -4. -4. -4.]\n",
      " [-4. -4. -4. -4.]]\n",
      "A+A:\n",
      " [[-8. -8. -8. -8.]\n",
      " [-8. -8. -8. -8.]\n",
      " [-8. -8. -8. -8.]\n",
      " [-8. -8. -8. -8.]]\n",
      "A-A:\n",
      " [[0. 0. 0. 0.]\n",
      " [0. 0. 0. 0.]\n",
      " [0. 0. 0. 0.]\n",
      " [0. 0. 0. 0.]]\n",
      "A*A:\n",
      " [[16. 16. 16. 16.]\n",
      " [16. 16. 16. 16.]\n",
      " [16. 16. 16. 16.]\n",
      " [16. 16. 16. 16.]]\n",
      "A/A:\n",
      " [[1. 1. 1. 1.]\n",
      " [1. 1. 1. 1.]\n",
      " [1. 1. 1. 1.]\n",
      " [1. 1. 1. 1.]]\n",
      "0.5*A:\n",
      " [[-2. -2. -2. -2.]\n",
      " [-2. -2. -2. -2.]\n",
      " [-2. -2. -2. -2.]\n",
      " [-2. -2. -2. -2.]]\n",
      "absolute value:\n",
      " [[4. 4. 4. 4.]\n",
      " [4. 4. 4. 4.]\n",
      " [4. 4. 4. 4.]\n",
      " [4. 4. 4. 4.]]\n",
      "square root:\n",
      " [[2. 2. 2. 2.]\n",
      " [2. 2. 2. 2.]\n",
      " [2. 2. 2. 2.]\n",
      " [2. 2. 2. 2.]]\n",
      "ln:\n",
      " [[1.38629436 1.38629436 1.38629436 1.38629436]\n",
      " [1.38629436 1.38629436 1.38629436 1.38629436]\n",
      " [1.38629436 1.38629436 1.38629436 1.38629436]\n",
      " [1.38629436 1.38629436 1.38629436 1.38629436]]\n",
      "log10:\n",
      " [[0.60205999 0.60205999 0.60205999 0.60205999]\n",
      " [0.60205999 0.60205999 0.60205999 0.60205999]\n",
      " [0.60205999 0.60205999 0.60205999 0.60205999]\n",
      " [0.60205999 0.60205999 0.60205999 0.60205999]]\n"
     ]
    }
   ],
   "source": [
    "import numpy as np\n",
    "A = np.ones((4,4))*-4\n",
    "print('A:\\n', A)\n",
    "print('A+A:\\n', A+A)\n",
    "print('A-A:\\n', A-A)\n",
    "print('A*A:\\n', A*A) \n",
    "print('A/A:\\n', A/A)\n",
    "print('0.5*A:\\n', 0.5*A)\n",
    "print('absolute value:\\n', np.absolute(A))\n",
    "print('square root:\\n', np.sqrt(np.absolute(A)))\n",
    "print('ln:\\n', np.log(np.absolute(A)))\n",
    "print('log10:\\n', np.log10(np.absolute(A)))"
   ]
  },
  {
   "cell_type": "code",
   "execution_count": 36,
   "id": "00ff6857",
   "metadata": {},
   "outputs": [
    {
     "name": "stdout",
     "output_type": "stream",
     "text": [
      "Max:  3\n",
      "Mean:  2.0\n",
      "Sum:  18\n",
      "Std:  0.816496580927726\n"
     ]
    }
   ],
   "source": [
    "# mean(), std(), sum(), max()\n",
    "data = np.array([[1,1,1],[2,2,2],[3,3,3]])\n",
    "print('Max: ', data.max())\n",
    "print('Mean: ', data.mean())\n",
    "print('Sum: ', data.sum())\n",
    "print('Std: ', data.std())"
   ]
  },
  {
   "cell_type": "markdown",
   "id": "efdbc2dc",
   "metadata": {},
   "source": [
    "*** \n",
    "### Matrix operations"
   ]
  },
  {
   "cell_type": "code",
   "execution_count": 40,
   "id": "625300b6",
   "metadata": {},
   "outputs": [
    {
     "name": "stdout",
     "output_type": "stream",
     "text": [
      "[[1 2 3]\n",
      " [3 5 7]\n",
      " [2 6 8]]\n"
     ]
    },
    {
     "data": {
      "text/plain": [
       "array([[1, 3, 2],\n",
       "       [2, 5, 6],\n",
       "       [3, 7, 8]])"
      ]
     },
     "execution_count": 40,
     "metadata": {},
     "output_type": "execute_result"
    }
   ],
   "source": [
    "# transpose\n",
    "data = [[1,2,3],[3,5,7],[2,6,8]]\n",
    "a =np.array(data)\n",
    "print(a)\n",
    "a.transpose() # or np.transpose(a)"
   ]
  },
  {
   "cell_type": "code",
   "execution_count": 41,
   "id": "f8bbb516",
   "metadata": {},
   "outputs": [
    {
     "name": "stdout",
     "output_type": "stream",
     "text": [
      "[[1 1 1]\n",
      " [2 2 2]]\n",
      "[[0 0 0]\n",
      " [1 1 1]]\n"
     ]
    },
    {
     "data": {
      "text/plain": [
       "array([[0, 3],\n",
       "       [0, 6]])"
      ]
     },
     "execution_count": 41,
     "metadata": {},
     "output_type": "execute_result"
    }
   ],
   "source": [
    "# dot product\n",
    "data1 = np.array([[1,1,1],[2,2,2]]) \n",
    "data2 = np.array([[0,0,0],[1,1,1]]) \n",
    "print(data1)\n",
    "print(data2)\n",
    "dot_product = np.dot(data1, data2.transpose())\n",
    "dot_product"
   ]
  }
 ],
 "metadata": {
  "kernelspec": {
   "display_name": "Python 3 (ipykernel)",
   "language": "python",
   "name": "python3"
  },
  "language_info": {
   "codemirror_mode": {
    "name": "ipython",
    "version": 3
   },
   "file_extension": ".py",
   "mimetype": "text/x-python",
   "name": "python",
   "nbconvert_exporter": "python",
   "pygments_lexer": "ipython3",
   "version": "3.10.4"
  }
 },
 "nbformat": 4,
 "nbformat_minor": 5
}

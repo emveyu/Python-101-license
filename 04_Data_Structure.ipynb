{
 "cells": [
  {
   "cell_type": "markdown",
   "id": "fa21cd19",
   "metadata": {},
   "source": [
    "# 4. Data Structure \n",
    "* Built-in\n",
    "    * [Tuple](#1-0)\n",
    "    * [List](#1-1) \n",
    "        * [construction](#1-1-1)\n",
    "        * [modification](#1-1-2): append(), extend(), insert(), pop(), delete \n",
    "        * [condition](#1-1-3)\n",
    "        * [operation](#1-1-4): min(), max(), sorted()\n",
    "    * [Dictionary](#1-2)\n",
    "        * [construction](#1-2-1)\n",
    "        * [modification](#1-2-2): update(), delete\n",
    "        * [condition](#1-2-3)\n",
    "    * [Set](#1-3)\n",
    "        * [modification](#1-3-1): add(), remove()\n",
    "        * [condition](#1-3-2)\n",
    "        * [operation](#1-3-3)\n",
    "* [Numpy](#2)\n",
    "* [Pandas](#3)\n",
    "* TensorFlow"
   ]
  },
  {
   "cell_type": "markdown",
   "id": "80de9988",
   "metadata": {},
   "source": [
    "***\n",
    "## Python Built-in Structure\n"
   ]
  },
  {
   "cell_type": "markdown",
   "id": "3ff7eb48",
   "metadata": {},
   "source": [
    "<a id =1-0> </a>\n",
    "### 1. Tuple: for immutable data"
   ]
  },
  {
   "cell_type": "code",
   "execution_count": 81,
   "id": "ac541073",
   "metadata": {},
   "outputs": [
    {
     "data": {
      "text/plain": [
       "2"
      ]
     },
     "execution_count": 81,
     "metadata": {},
     "output_type": "execute_result"
    }
   ],
   "source": [
    "tup = ((1,2),(3,5))\n",
    "tup[0][1]"
   ]
  },
  {
   "cell_type": "code",
   "execution_count": 157,
   "id": "38e8b409",
   "metadata": {
    "scrolled": false
   },
   "outputs": [
    {
     "name": "stdout",
     "output_type": "stream",
     "text": [
      "[(1, 2), (3, 5)]\n"
     ]
    },
    {
     "data": {
      "text/plain": [
       "[1, 2]"
      ]
     },
     "execution_count": 157,
     "metadata": {},
     "output_type": "execute_result"
    }
   ],
   "source": [
    "# convert tuple to the format of list which can be modified \n",
    "print(list(tup))\n",
    "list(list(tup)[0])"
   ]
  },
  {
   "cell_type": "markdown",
   "id": "78d2f4e0",
   "metadata": {},
   "source": [
    "***\n",
    "<a id =1-1> </a>\n",
    "### 2. List\n",
    "\n",
    "<a id =1-1-1> </a>\n",
    "#### Construction "
   ]
  },
  {
   "cell_type": "code",
   "execution_count": 103,
   "id": "ad2f9cef",
   "metadata": {},
   "outputs": [
    {
     "data": {
      "text/plain": [
       "['appel', 100, True]"
      ]
     },
     "execution_count": 103,
     "metadata": {},
     "output_type": "execute_result"
    }
   ],
   "source": [
    "a = ['appel', 100, True]\n",
    "a"
   ]
  },
  {
   "cell_type": "code",
   "execution_count": 104,
   "id": "7bcf460e",
   "metadata": {},
   "outputs": [
    {
     "data": {
      "text/plain": [
       "[0, 1, 2, 3, 4, 5, 6, 7, 8, 9]"
      ]
     },
     "execution_count": 104,
     "metadata": {},
     "output_type": "execute_result"
    }
   ],
   "source": [
    "# Number list\n",
    "list(range(10))"
   ]
  },
  {
   "cell_type": "code",
   "execution_count": 105,
   "id": "1b1aa92c",
   "metadata": {},
   "outputs": [
    {
     "data": {
      "text/plain": [
       "[1, 3, 5, 7, 9]"
      ]
     },
     "execution_count": 105,
     "metadata": {},
     "output_type": "execute_result"
    }
   ],
   "source": [
    "# range(start, end, space)\n",
    "# end-index is excluded in the list\n",
    "list(range(1,10,2))"
   ]
  },
  {
   "cell_type": "code",
   "execution_count": 106,
   "id": "cdd8a9d9",
   "metadata": {
    "scrolled": true
   },
   "outputs": [
    {
     "data": {
      "text/plain": [
       "[2, 4, 6, 8]"
      ]
     },
     "execution_count": 106,
     "metadata": {},
     "output_type": "execute_result"
    }
   ],
   "source": [
    "nlist = [num for num in range(1,10) if num%2 == 0]\n",
    "nlist"
   ]
  },
  {
   "cell_type": "markdown",
   "id": "c97ec0a3",
   "metadata": {},
   "source": [
    "<a id =1-1-2> </a>\n",
    "#### Modification "
   ]
  },
  {
   "cell_type": "code",
   "execution_count": 107,
   "id": "06a62aa0",
   "metadata": {},
   "outputs": [
    {
     "name": "stdout",
     "output_type": "stream",
     "text": [
      "[[2, 7, 4, 5], [2, 4, 5, 6]]\n",
      "[7, 4]\n"
     ]
    }
   ],
   "source": [
    "# modify elements\n",
    "nlist = [[2,3,4,5],\n",
    "         [2,4,5,6]]\n",
    "nlist[0][1]=7 # list[row ind][column ind]\n",
    "print(nlist)\n",
    "# Get elements\n",
    "print(nlist[0][1:3])"
   ]
  },
  {
   "cell_type": "code",
   "execution_count": 108,
   "id": "89ec4197",
   "metadata": {},
   "outputs": [
    {
     "name": "stdout",
     "output_type": "stream",
     "text": [
      "['A', 'B', 'X', 'B']\n"
     ]
    },
    {
     "data": {
      "text/plain": [
       "['A', 'B', 'C', 'D', 'E']"
      ]
     },
     "execution_count": 108,
     "metadata": {},
     "output_type": "execute_result"
    }
   ],
   "source": [
    "# append\n",
    "print(sl)\n",
    "sl = ['A','B','C','D']\n",
    "sl.append('E')\n",
    "sl"
   ]
  },
  {
   "cell_type": "code",
   "execution_count": 109,
   "id": "fbc09121",
   "metadata": {},
   "outputs": [
    {
     "name": "stdout",
     "output_type": "stream",
     "text": [
      "['A', 'B', 'C', 'D', 'E']\n"
     ]
    },
    {
     "data": {
      "text/plain": [
       "['A', 'B', 'C', 'D', 'E', 'G', 'H', 'I']"
      ]
     },
     "execution_count": 109,
     "metadata": {},
     "output_type": "execute_result"
    }
   ],
   "source": [
    "# extend\n",
    "sl.extend(['G','H','I'])\n",
    "sl"
   ]
  },
  {
   "cell_type": "code",
   "execution_count": 110,
   "id": "f5e6e4b3",
   "metadata": {},
   "outputs": [
    {
     "name": "stdout",
     "output_type": "stream",
     "text": [
      "['A', 'B', 'C', 'D', 'E', 'G', 'H', 'I']\n"
     ]
    },
    {
     "data": {
      "text/plain": [
       "['A', 'X', 'B', 'C', 'D', 'E', 'G', 'H', 'I']"
      ]
     },
     "execution_count": 110,
     "metadata": {},
     "output_type": "execute_result"
    }
   ],
   "source": [
    "# insert(location ind, inserted element)\n",
    "print(sl)\n",
    "sl.insert(1,'X')  \n",
    "sl"
   ]
  },
  {
   "cell_type": "code",
   "execution_count": 111,
   "id": "583d1c0b",
   "metadata": {},
   "outputs": [
    {
     "name": "stdout",
     "output_type": "stream",
     "text": [
      "['A', 'X', 'B', 'C', 'D', 'E', 'G', 'H', 'I']\n"
     ]
    },
    {
     "data": {
      "text/plain": [
       "['A', 'B', 'C', 'D', 'E', 'G', 'H', 'I']"
      ]
     },
     "execution_count": 111,
     "metadata": {},
     "output_type": "execute_result"
    }
   ],
   "source": [
    "# delete\n",
    "print(sl)\n",
    "del sl[1:2]\n",
    "sl"
   ]
  },
  {
   "cell_type": "code",
   "execution_count": 112,
   "id": "59d503e6",
   "metadata": {},
   "outputs": [
    {
     "name": "stdout",
     "output_type": "stream",
     "text": [
      "['A', 'B', 'C', 'D', 'E', 'G', 'H', 'I']\n"
     ]
    },
    {
     "data": {
      "text/plain": [
       "['A', 'B', 'C', 'D', 'E', 'G', 'H']"
      ]
     },
     "execution_count": 112,
     "metadata": {},
     "output_type": "execute_result"
    }
   ],
   "source": [
    "# pop: only remove the last element\n",
    "print(sl)\n",
    "sl.pop()\n",
    "sl"
   ]
  },
  {
   "cell_type": "markdown",
   "id": "834d1f72",
   "metadata": {},
   "source": [
    "<a id =1-1-3> </a>\n",
    "#### Condition "
   ]
  },
  {
   "cell_type": "code",
   "execution_count": 59,
   "id": "66d3a9d2",
   "metadata": {},
   "outputs": [
    {
     "name": "stdout",
     "output_type": "stream",
     "text": [
      "True\n",
      "False\n"
     ]
    }
   ],
   "source": [
    "# existence in list\n",
    "print('X' in sl)\n",
    "print('J' in sl)"
   ]
  },
  {
   "cell_type": "markdown",
   "id": "73bf05c4",
   "metadata": {},
   "source": [
    "<a id =1-1-4> </a>\n",
    "#### Operation "
   ]
  },
  {
   "cell_type": "code",
   "execution_count": 55,
   "id": "87bd51ed",
   "metadata": {},
   "outputs": [
    {
     "data": {
      "text/plain": [
       "1"
      ]
     },
     "execution_count": 55,
     "metadata": {},
     "output_type": "execute_result"
    }
   ],
   "source": [
    "# Find index\n",
    "# only return the index of the first found element\n",
    "sl = ['A','B','X','B']\n",
    "sl.index('B')"
   ]
  },
  {
   "cell_type": "code",
   "execution_count": 191,
   "id": "1515be11",
   "metadata": {},
   "outputs": [
    {
     "name": "stdout",
     "output_type": "stream",
     "text": [
      "5\n",
      "1\n"
     ]
    }
   ],
   "source": [
    "ls = [1,2,3,4,5]\n",
    "print(max(ls))\n",
    "print(min(ls))"
   ]
  },
  {
   "cell_type": "code",
   "execution_count": 65,
   "id": "3a54c1fe",
   "metadata": {},
   "outputs": [
    {
     "name": "stdout",
     "output_type": "stream",
     "text": [
      "small to large:  ['A', 'B', 'B', 'X']\n",
      "large to small:  ['X', 'B', 'B', 'A']\n"
     ]
    }
   ],
   "source": [
    "# Sorting\n",
    "print('small to large: ',sorted(sl))\n",
    "print('large to small: ',sorted(sl, reverse=True))"
   ]
  },
  {
   "cell_type": "markdown",
   "id": "e61d860e",
   "metadata": {},
   "source": [
    "***\n",
    "<a id =1-1> </a>\n",
    "### 2. Dictionary"
   ]
  },
  {
   "cell_type": "markdown",
   "id": "259956c1",
   "metadata": {},
   "source": [
    "<a id =1-2-1> </a>\n",
    "#### Construction"
   ]
  },
  {
   "cell_type": "code",
   "execution_count": 143,
   "id": "02365fc8",
   "metadata": {},
   "outputs": [
    {
     "data": {
      "text/plain": [
       "[84, 10]"
      ]
     },
     "execution_count": 143,
     "metadata": {},
     "output_type": "execute_result"
    }
   ],
   "source": [
    "# construction {key1: values1, key2: values2, ...}\n",
    "dic = {'Shaun':[84,10],'Allen':[63,12],'Chin':[76,20], 'Charlie': [83,10]}\n",
    "# look up a key and get its values from a dictionary \n",
    "dic['Shaun']"
   ]
  },
  {
   "cell_type": "code",
   "execution_count": 153,
   "id": "5ff06580",
   "metadata": {
    "scrolled": true
   },
   "outputs": [
    {
     "name": "stdout",
     "output_type": "stream",
     "text": [
      "{'Shaun': [84, 10], 'Allen': [63, 12], 'Chin': [76, 20], 'Charlie': [83, 10]}\n"
     ]
    },
    {
     "data": {
      "text/plain": [
       "['Shaun', 'Allen', 'Chin', 'Charlie']"
      ]
     },
     "execution_count": 153,
     "metadata": {},
     "output_type": "execute_result"
    }
   ],
   "source": [
    "# return all keys => .keys()\n",
    "print(dic)\n",
    "allkeys = dic.keys() # output is not a list format\n",
    "list(allkey)"
   ]
  },
  {
   "cell_type": "code",
   "execution_count": 154,
   "id": "0b9ff7a1",
   "metadata": {},
   "outputs": [
    {
     "data": {
      "text/plain": [
       "[[84, 10], [63, 12], [76, 20], [83, 10]]"
      ]
     },
     "execution_count": 154,
     "metadata": {},
     "output_type": "execute_result"
    }
   ],
   "source": [
    "# return all values => .values()\n",
    "allvalues = dic.values()\n",
    "list(allvalue)"
   ]
  },
  {
   "cell_type": "code",
   "execution_count": 156,
   "id": "60e488fd",
   "metadata": {},
   "outputs": [
    {
     "data": {
      "text/plain": [
       "[('Shaun', [84, 10]),\n",
       " ('Allen', [63, 12]),\n",
       " ('Chin', [76, 20]),\n",
       " ('Charlie', [83, 10])]"
      ]
     },
     "execution_count": 156,
     "metadata": {},
     "output_type": "execute_result"
    }
   ],
   "source": [
    "# return all key-value pairs => .items()\n",
    "allpairs = dic.items()\n",
    "list(allpairs)"
   ]
  },
  {
   "cell_type": "markdown",
   "id": "71050bc9",
   "metadata": {},
   "source": [
    "<a id =1-2-2> </a>\n",
    "#### Modification"
   ]
  },
  {
   "cell_type": "code",
   "execution_count": 126,
   "id": "4fd4a715",
   "metadata": {},
   "outputs": [
    {
     "name": "stdout",
     "output_type": "stream",
     "text": [
      "[84, 10]\n",
      "[84, 10, 200]\n"
     ]
    }
   ],
   "source": [
    "print(dic['Shaun'])\n",
    "dic['Shaun'] = [84,10,200]\n",
    "print(dic['Shaun'])"
   ]
  },
  {
   "cell_type": "code",
   "execution_count": 131,
   "id": "94de4ce3",
   "metadata": {},
   "outputs": [
    {
     "data": {
      "text/plain": [
       "{'Shaun': [84, 10],\n",
       " 'Allen': [63, 12],\n",
       " 'Chin': [76, 20],\n",
       " 'Charlie': [83, 10],\n",
       " 'Edison': [95, 11, 175],\n",
       " 'John': [64, 15, 165]}"
      ]
     },
     "execution_count": 131,
     "metadata": {},
     "output_type": "execute_result"
    }
   ],
   "source": [
    "# add new keys => upadte\n",
    "dic.update({'Edison':[95,11,175],'John':[64,15,165]})\n",
    "dic"
   ]
  },
  {
   "cell_type": "code",
   "execution_count": 132,
   "id": "657d4594",
   "metadata": {},
   "outputs": [
    {
     "data": {
      "text/plain": [
       "{'Shaun': [84, 10],\n",
       " 'Allen': [63, 12],\n",
       " 'Chin': [76, 20],\n",
       " 'Charlie': [83, 10],\n",
       " 'Edison': [95, 11, 175]}"
      ]
     },
     "execution_count": 132,
     "metadata": {},
     "output_type": "execute_result"
    }
   ],
   "source": [
    "# delete keys\n",
    "del dic['John']\n",
    "dic"
   ]
  },
  {
   "cell_type": "markdown",
   "id": "804e3329",
   "metadata": {},
   "source": [
    "<a id =1-2-3> </a>\n",
    "#### Condition"
   ]
  },
  {
   "cell_type": "code",
   "execution_count": 159,
   "id": "afd13ea7",
   "metadata": {},
   "outputs": [
    {
     "name": "stdout",
     "output_type": "stream",
     "text": [
      "False\n",
      "True\n"
     ]
    }
   ],
   "source": [
    "# existence in dictionary \n",
    "print('Ben' in dic)\n",
    "print('Shaun' in dic)"
   ]
  },
  {
   "cell_type": "markdown",
   "id": "4e9b18fd",
   "metadata": {},
   "source": [
    "***\n",
    "<a id =1-3> </a>\n",
    "### 4. Set: no same element in a set"
   ]
  },
  {
   "cell_type": "code",
   "execution_count": 172,
   "id": "0acc93de",
   "metadata": {
    "scrolled": true
   },
   "outputs": [
    {
     "name": "stdout",
     "output_type": "stream",
     "text": [
      "{1, 2, 3, 4}\n"
     ]
    }
   ],
   "source": [
    "set1 = {1,2,2,3,4,4,4}\n",
    "print(set1)"
   ]
  },
  {
   "cell_type": "markdown",
   "id": "2de780ff",
   "metadata": {},
   "source": [
    "<a id =1-3-1> </a>\n",
    "#### Modification "
   ]
  },
  {
   "cell_type": "code",
   "execution_count": 166,
   "id": "a168b0af",
   "metadata": {},
   "outputs": [
    {
     "data": {
      "text/plain": [
       "{1, 2, 3, 4, 5}"
      ]
     },
     "execution_count": 166,
     "metadata": {},
     "output_type": "execute_result"
    }
   ],
   "source": [
    "# add \n",
    "set1.add(5)\n",
    "set1"
   ]
  },
  {
   "cell_type": "code",
   "execution_count": 167,
   "id": "52f7f4d2",
   "metadata": {},
   "outputs": [
    {
     "data": {
      "text/plain": [
       "{1, 3, 4, 5}"
      ]
     },
     "execution_count": 167,
     "metadata": {},
     "output_type": "execute_result"
    }
   ],
   "source": [
    "# remove element\n",
    "set1.remove(2)\n",
    "set1"
   ]
  },
  {
   "cell_type": "markdown",
   "id": "30a30c3b",
   "metadata": {},
   "source": [
    "<a id =1-3-2> </a>\n",
    "#### Condition "
   ]
  },
  {
   "cell_type": "code",
   "execution_count": 185,
   "id": "54837a12",
   "metadata": {},
   "outputs": [],
   "source": [
    "seta = {'apple', 'banana', 'orange'}\n",
    "setb = {'banana', 'grapes'}\n",
    "setc = {'benz'}\n",
    "setd = {'banana'}"
   ]
  },
  {
   "cell_type": "code",
   "execution_count": 175,
   "id": "526e6cd9",
   "metadata": {},
   "outputs": [
    {
     "data": {
      "text/plain": [
       "{'banna'}"
      ]
     },
     "execution_count": 175,
     "metadata": {},
     "output_type": "execute_result"
    }
   ],
   "source": [
    "seta&setb"
   ]
  },
  {
   "cell_type": "code",
   "execution_count": 176,
   "id": "ed0b14db",
   "metadata": {},
   "outputs": [
    {
     "data": {
      "text/plain": [
       "{'apple', 'banna', 'grapes', 'orange'}"
      ]
     },
     "execution_count": 176,
     "metadata": {},
     "output_type": "execute_result"
    }
   ],
   "source": [
    "seta|setb"
   ]
  },
  {
   "cell_type": "code",
   "execution_count": 177,
   "id": "57307ccb",
   "metadata": {},
   "outputs": [
    {
     "data": {
      "text/plain": [
       "{'apple', 'orange'}"
      ]
     },
     "execution_count": 177,
     "metadata": {},
     "output_type": "execute_result"
    }
   ],
   "source": [
    "seta-setb"
   ]
  },
  {
   "cell_type": "code",
   "execution_count": 186,
   "id": "4d1a1f8e",
   "metadata": {},
   "outputs": [
    {
     "name": "stdout",
     "output_type": "stream",
     "text": [
      "False\n",
      "True\n"
     ]
    }
   ],
   "source": [
    "print(setb<=seta)\n",
    "print(setd<=seta)"
   ]
  },
  {
   "cell_type": "code",
   "execution_count": 181,
   "id": "2c3a8216",
   "metadata": {},
   "outputs": [
    {
     "name": "stdout",
     "output_type": "stream",
     "text": [
      "False\n",
      "True\n"
     ]
    }
   ],
   "source": [
    "# judge \"disjoint\"\n",
    "print(seta.isdisjoint(setb))\n",
    "print(seta.isdisjoint(setc))"
   ]
  },
  {
   "cell_type": "markdown",
   "id": "fefc01b3",
   "metadata": {},
   "source": [
    "<a id =1-3-3> </a>\n",
    "#### Operation "
   ]
  },
  {
   "cell_type": "code",
   "execution_count": 188,
   "id": "993b5bf5",
   "metadata": {},
   "outputs": [
    {
     "name": "stdout",
     "output_type": "stream",
     "text": [
      "5\n",
      "1\n"
     ]
    }
   ],
   "source": [
    "set1 = {1,2,3,4,5}\n",
    "print(max(set1))\n",
    "print(min(set1))"
   ]
  },
  {
   "cell_type": "markdown",
   "id": "d3356b15",
   "metadata": {},
   "source": [
    "<a id =2> </a>\n",
    "***\n",
    "## Numpy\n",
    "* [Numpy array](./Numpy_Array.ipynb)\n",
    "* [Numpy operations](./Numpy_Operation.ipynb)"
   ]
  },
  {
   "cell_type": "markdown",
   "id": "027d0ea0",
   "metadata": {},
   "source": [
    "<a id =3> </a>\n",
    "***\n",
    "## Pandas\n",
    "* [DataFrame](./Pandas_DataFrame.ipynb)\n",
    "* [Pandas Operations](./Pandas_Operations.ipynb)"
   ]
  },
  {
   "cell_type": "markdown",
   "id": "d773c5c9",
   "metadata": {},
   "source": [
    "*** \n",
    "## TensorFlow\n",
    "* Tensor"
   ]
  }
 ],
 "metadata": {
  "kernelspec": {
   "display_name": "Python 3 (ipykernel)",
   "language": "python",
   "name": "python3"
  },
  "language_info": {
   "codemirror_mode": {
    "name": "ipython",
    "version": 3
   },
   "file_extension": ".py",
   "mimetype": "text/x-python",
   "name": "python",
   "nbconvert_exporter": "python",
   "pygments_lexer": "ipython3",
   "version": "3.10.4"
  }
 },
 "nbformat": 4,
 "nbformat_minor": 5
}

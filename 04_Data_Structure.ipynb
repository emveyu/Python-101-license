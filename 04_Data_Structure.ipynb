{
 "cells": [
  {
   "cell_type": "markdown",
   "id": "fa21cd19",
   "metadata": {},
   "source": [
    "# 4. Data Structure \n",
    "***\n",
    "## Python Built-in Structure\n",
    "### List"
   ]
  },
  {
   "cell_type": "code",
   "execution_count": 7,
   "id": "ad2f9cef",
   "metadata": {},
   "outputs": [
    {
     "data": {
      "text/plain": [
       "['appel', 100, True]"
      ]
     },
     "execution_count": 7,
     "metadata": {},
     "output_type": "execute_result"
    }
   ],
   "source": [
    "a = ['appel', 100, True]\n",
    "a"
   ]
  },
  {
   "cell_type": "code",
   "execution_count": 5,
   "id": "7bcf460e",
   "metadata": {},
   "outputs": [
    {
     "data": {
      "text/plain": [
       "[0, 1, 2, 3, 4, 5, 6, 7, 8, 9]"
      ]
     },
     "execution_count": 5,
     "metadata": {},
     "output_type": "execute_result"
    }
   ],
   "source": [
    "list(range(10))"
   ]
  },
  {
   "cell_type": "code",
   "execution_count": 4,
   "id": "1b1aa92c",
   "metadata": {},
   "outputs": [
    {
     "data": {
      "text/plain": [
       "[1, 3, 5, 7, 9]"
      ]
     },
     "execution_count": 4,
     "metadata": {},
     "output_type": "execute_result"
    }
   ],
   "source": [
    "# range(start, end, space)\n",
    "# end is excluded\n",
    "list(range(1,10,2))"
   ]
  },
  {
   "cell_type": "code",
   "execution_count": 3,
   "id": "cdd8a9d9",
   "metadata": {},
   "outputs": [
    {
     "data": {
      "text/plain": [
       "[2, 4, 6, 8]"
      ]
     },
     "execution_count": 3,
     "metadata": {},
     "output_type": "execute_result"
    }
   ],
   "source": [
    "nlist = [num for num in range(1,10) if num%2 == 0]\n",
    "nlist"
   ]
  },
  {
   "cell_type": "markdown",
   "id": "3ff7eb48",
   "metadata": {},
   "source": [
    "### Dictionary\n",
    "### Tuple"
   ]
  },
  {
   "cell_type": "markdown",
   "id": "d3356b15",
   "metadata": {},
   "source": [
    "***\n",
    "## Numpy\n",
    "* Array\n"
   ]
  },
  {
   "cell_type": "markdown",
   "id": "027d0ea0",
   "metadata": {},
   "source": [
    "***\n",
    "## Pandas\n",
    "* [DataFrame](./Pandas_DataFrame.ipynb)\n",
    "* [DataFrame Operations](./Pandas_Operations.ipynb)"
   ]
  },
  {
   "cell_type": "markdown",
   "id": "d773c5c9",
   "metadata": {},
   "source": [
    "*** \n",
    "## TensorFlow\n",
    "* Tensor"
   ]
  }
 ],
 "metadata": {
  "kernelspec": {
   "display_name": "Python 3 (ipykernel)",
   "language": "python",
   "name": "python3"
  },
  "language_info": {
   "codemirror_mode": {
    "name": "ipython",
    "version": 3
   },
   "file_extension": ".py",
   "mimetype": "text/x-python",
   "name": "python",
   "nbconvert_exporter": "python",
   "pygments_lexer": "ipython3",
   "version": "3.10.4"
  }
 },
 "nbformat": 4,
 "nbformat_minor": 5
}
